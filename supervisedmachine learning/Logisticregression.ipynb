{
 "cells": [
  {
   "cell_type": "code",
   "execution_count": 2,
   "id": "6d4f1ed4",
   "metadata": {
    "scrolled": true
   },
   "outputs": [],
   "source": [
    "import numpy as np\n",
    "import matplotlib.pyplot as plt\n",
    "import pandas as pd"
   ]
  },
  {
   "cell_type": "code",
   "execution_count": 3,
   "id": "3f42dd7c",
   "metadata": {},
   "outputs": [],
   "source": [
    "df=np.loadtxt(\"C:\\\\Users\\\\nshra\\\\Machine learning\\\\Files\\\\ex2data1.txt\",delimiter=',')\n",
    "df1=df=np.loadtxt(\"C:\\\\Users\\\\nshra\\\\Machine learning\\\\Files\\\\ex2data2.txt\",delimiter=',')"
   ]
  },
  {
   "cell_type": "code",
   "execution_count": 4,
   "id": "f54a945f",
   "metadata": {},
   "outputs": [
    {
     "name": "stdout",
     "output_type": "stream",
     "text": [
      "[[ 0.051267   0.69956    1.       ]\n",
      " [-0.092742   0.68494    1.       ]\n",
      " [-0.21371    0.69225    1.       ]\n",
      " [-0.375      0.50219    1.       ]\n",
      " [-0.51325    0.46564    1.       ]\n",
      " [-0.52477    0.2098     1.       ]\n",
      " [-0.39804    0.034357   1.       ]\n",
      " [-0.30588   -0.19225    1.       ]\n",
      " [ 0.016705  -0.40424    1.       ]\n",
      " [ 0.13191   -0.51389    1.       ]\n",
      " [ 0.38537   -0.56506    1.       ]\n",
      " [ 0.52938   -0.5212     1.       ]\n",
      " [ 0.63882   -0.24342    1.       ]\n",
      " [ 0.73675   -0.18494    1.       ]\n",
      " [ 0.54666    0.48757    1.       ]\n",
      " [ 0.322      0.5826     1.       ]\n",
      " [ 0.16647    0.53874    1.       ]\n",
      " [-0.046659   0.81652    1.       ]\n",
      " [-0.17339    0.69956    1.       ]\n",
      " [-0.47869    0.63377    1.       ]\n",
      " [-0.60541    0.59722    1.       ]\n",
      " [-0.62846    0.33406    1.       ]\n",
      " [-0.59389    0.005117   1.       ]\n",
      " [-0.42108   -0.27266    1.       ]\n",
      " [-0.11578   -0.39693    1.       ]\n",
      " [ 0.20104   -0.60161    1.       ]\n",
      " [ 0.46601   -0.53582    1.       ]\n",
      " [ 0.67339   -0.53582    1.       ]\n",
      " [-0.13882    0.54605    1.       ]\n",
      " [-0.29435    0.77997    1.       ]\n",
      " [-0.26555    0.96272    1.       ]\n",
      " [-0.16187    0.8019     1.       ]\n",
      " [-0.17339    0.64839    1.       ]\n",
      " [-0.28283    0.47295    1.       ]\n",
      " [-0.36348    0.31213    1.       ]\n",
      " [-0.30012    0.027047   1.       ]\n",
      " [-0.23675   -0.21418    1.       ]\n",
      " [-0.06394   -0.18494    1.       ]\n",
      " [ 0.062788  -0.16301    1.       ]\n",
      " [ 0.22984   -0.41155    1.       ]\n",
      " [ 0.2932    -0.2288     1.       ]\n",
      " [ 0.48329   -0.18494    1.       ]\n",
      " [ 0.64459   -0.14108    1.       ]\n",
      " [ 0.46025    0.012427   1.       ]\n",
      " [ 0.6273     0.15863    1.       ]\n",
      " [ 0.57546    0.26827    1.       ]\n",
      " [ 0.72523    0.44371    1.       ]\n",
      " [ 0.22408    0.52412    1.       ]\n",
      " [ 0.44297    0.67032    1.       ]\n",
      " [ 0.322      0.69225    1.       ]\n",
      " [ 0.13767    0.57529    1.       ]\n",
      " [-0.0063364  0.39985    1.       ]\n",
      " [-0.092742   0.55336    1.       ]\n",
      " [-0.20795    0.35599    1.       ]\n",
      " [-0.20795    0.17325    1.       ]\n",
      " [-0.43836    0.21711    1.       ]\n",
      " [-0.21947   -0.016813   1.       ]\n",
      " [-0.13882   -0.27266    1.       ]\n",
      " [ 0.18376    0.93348    0.       ]\n",
      " [ 0.22408    0.77997    0.       ]\n",
      " [ 0.29896    0.61915    0.       ]\n",
      " [ 0.50634    0.75804    0.       ]\n",
      " [ 0.61578    0.7288     0.       ]\n",
      " [ 0.60426    0.59722    0.       ]\n",
      " [ 0.76555    0.50219    0.       ]\n",
      " [ 0.92684    0.3633     0.       ]\n",
      " [ 0.82316    0.27558    0.       ]\n",
      " [ 0.96141    0.085526   0.       ]\n",
      " [ 0.93836    0.012427   0.       ]\n",
      " [ 0.86348   -0.082602   0.       ]\n",
      " [ 0.89804   -0.20687    0.       ]\n",
      " [ 0.85196   -0.36769    0.       ]\n",
      " [ 0.82892   -0.5212     0.       ]\n",
      " [ 0.79435   -0.55775    0.       ]\n",
      " [ 0.59274   -0.7405     0.       ]\n",
      " [ 0.51786   -0.5943     0.       ]\n",
      " [ 0.46601   -0.41886    0.       ]\n",
      " [ 0.35081   -0.57968    0.       ]\n",
      " [ 0.28744   -0.76974    0.       ]\n",
      " [ 0.085829  -0.75512    0.       ]\n",
      " [ 0.14919   -0.57968    0.       ]\n",
      " [-0.13306   -0.4481     0.       ]\n",
      " [-0.40956   -0.41155    0.       ]\n",
      " [-0.39228   -0.25804    0.       ]\n",
      " [-0.74366   -0.25804    0.       ]\n",
      " [-0.69758    0.041667   0.       ]\n",
      " [-0.75518    0.2902     0.       ]\n",
      " [-0.69758    0.68494    0.       ]\n",
      " [-0.4038     0.70687    0.       ]\n",
      " [-0.38076    0.91886    0.       ]\n",
      " [-0.50749    0.90424    0.       ]\n",
      " [-0.54781    0.70687    0.       ]\n",
      " [ 0.10311    0.77997    0.       ]\n",
      " [ 0.057028   0.91886    0.       ]\n",
      " [-0.10426    0.99196    0.       ]\n",
      " [-0.081221   1.1089     0.       ]\n",
      " [ 0.28744    1.087      0.       ]\n",
      " [ 0.39689    0.82383    0.       ]\n",
      " [ 0.63882    0.88962    0.       ]\n",
      " [ 0.82316    0.66301    0.       ]\n",
      " [ 0.67339    0.64108    0.       ]\n",
      " [ 1.0709     0.10015    0.       ]\n",
      " [-0.046659  -0.57968    0.       ]\n",
      " [-0.23675   -0.63816    0.       ]\n",
      " [-0.15035   -0.36769    0.       ]\n",
      " [-0.49021   -0.3019     0.       ]\n",
      " [-0.46717   -0.13377    0.       ]\n",
      " [-0.28859   -0.060673   0.       ]\n",
      " [-0.61118   -0.067982   0.       ]\n",
      " [-0.66302   -0.21418    0.       ]\n",
      " [-0.59965   -0.41886    0.       ]\n",
      " [-0.72638   -0.082602   0.       ]\n",
      " [-0.83007    0.31213    0.       ]\n",
      " [-0.72062    0.53874    0.       ]\n",
      " [-0.59389    0.49488    0.       ]\n",
      " [-0.48445    0.99927    0.       ]\n",
      " [-0.0063364  0.99927    0.       ]\n",
      " [ 0.63265   -0.030612   0.       ]]\n"
     ]
    }
   ],
   "source": [
    "X_train = df[:,:-1]\n",
    "y=df1[:,:-1]\n",
    "y_train = df[:, -1]\n",
    "print(df)"
   ]
  },
  {
   "cell_type": "code",
   "execution_count": 5,
   "id": "60a7ec52",
   "metadata": {},
   "outputs": [
    {
     "data": {
      "text/plain": [
       "array([[ 0.051267 ,  0.69956  ,  1.       ],\n",
       "       [-0.092742 ,  0.68494  ,  1.       ],\n",
       "       [-0.21371  ,  0.69225  ,  1.       ],\n",
       "       [-0.375    ,  0.50219  ,  1.       ],\n",
       "       [-0.51325  ,  0.46564  ,  1.       ],\n",
       "       [-0.52477  ,  0.2098   ,  1.       ],\n",
       "       [-0.39804  ,  0.034357 ,  1.       ],\n",
       "       [-0.30588  , -0.19225  ,  1.       ],\n",
       "       [ 0.016705 , -0.40424  ,  1.       ],\n",
       "       [ 0.13191  , -0.51389  ,  1.       ],\n",
       "       [ 0.38537  , -0.56506  ,  1.       ],\n",
       "       [ 0.52938  , -0.5212   ,  1.       ],\n",
       "       [ 0.63882  , -0.24342  ,  1.       ],\n",
       "       [ 0.73675  , -0.18494  ,  1.       ],\n",
       "       [ 0.54666  ,  0.48757  ,  1.       ],\n",
       "       [ 0.322    ,  0.5826   ,  1.       ],\n",
       "       [ 0.16647  ,  0.53874  ,  1.       ],\n",
       "       [-0.046659 ,  0.81652  ,  1.       ],\n",
       "       [-0.17339  ,  0.69956  ,  1.       ],\n",
       "       [-0.47869  ,  0.63377  ,  1.       ],\n",
       "       [-0.60541  ,  0.59722  ,  1.       ],\n",
       "       [-0.62846  ,  0.33406  ,  1.       ],\n",
       "       [-0.59389  ,  0.005117 ,  1.       ],\n",
       "       [-0.42108  , -0.27266  ,  1.       ],\n",
       "       [-0.11578  , -0.39693  ,  1.       ],\n",
       "       [ 0.20104  , -0.60161  ,  1.       ],\n",
       "       [ 0.46601  , -0.53582  ,  1.       ],\n",
       "       [ 0.67339  , -0.53582  ,  1.       ],\n",
       "       [-0.13882  ,  0.54605  ,  1.       ],\n",
       "       [-0.29435  ,  0.77997  ,  1.       ],\n",
       "       [-0.26555  ,  0.96272  ,  1.       ],\n",
       "       [-0.16187  ,  0.8019   ,  1.       ],\n",
       "       [-0.17339  ,  0.64839  ,  1.       ],\n",
       "       [-0.28283  ,  0.47295  ,  1.       ],\n",
       "       [-0.36348  ,  0.31213  ,  1.       ],\n",
       "       [-0.30012  ,  0.027047 ,  1.       ],\n",
       "       [-0.23675  , -0.21418  ,  1.       ],\n",
       "       [-0.06394  , -0.18494  ,  1.       ],\n",
       "       [ 0.062788 , -0.16301  ,  1.       ],\n",
       "       [ 0.22984  , -0.41155  ,  1.       ],\n",
       "       [ 0.2932   , -0.2288   ,  1.       ],\n",
       "       [ 0.48329  , -0.18494  ,  1.       ],\n",
       "       [ 0.64459  , -0.14108  ,  1.       ],\n",
       "       [ 0.46025  ,  0.012427 ,  1.       ],\n",
       "       [ 0.6273   ,  0.15863  ,  1.       ],\n",
       "       [ 0.57546  ,  0.26827  ,  1.       ],\n",
       "       [ 0.72523  ,  0.44371  ,  1.       ],\n",
       "       [ 0.22408  ,  0.52412  ,  1.       ],\n",
       "       [ 0.44297  ,  0.67032  ,  1.       ],\n",
       "       [ 0.322    ,  0.69225  ,  1.       ],\n",
       "       [ 0.13767  ,  0.57529  ,  1.       ],\n",
       "       [-0.0063364,  0.39985  ,  1.       ],\n",
       "       [-0.092742 ,  0.55336  ,  1.       ],\n",
       "       [-0.20795  ,  0.35599  ,  1.       ],\n",
       "       [-0.20795  ,  0.17325  ,  1.       ],\n",
       "       [-0.43836  ,  0.21711  ,  1.       ],\n",
       "       [-0.21947  , -0.016813 ,  1.       ],\n",
       "       [-0.13882  , -0.27266  ,  1.       ],\n",
       "       [ 0.18376  ,  0.93348  ,  0.       ],\n",
       "       [ 0.22408  ,  0.77997  ,  0.       ],\n",
       "       [ 0.29896  ,  0.61915  ,  0.       ],\n",
       "       [ 0.50634  ,  0.75804  ,  0.       ],\n",
       "       [ 0.61578  ,  0.7288   ,  0.       ],\n",
       "       [ 0.60426  ,  0.59722  ,  0.       ],\n",
       "       [ 0.76555  ,  0.50219  ,  0.       ],\n",
       "       [ 0.92684  ,  0.3633   ,  0.       ],\n",
       "       [ 0.82316  ,  0.27558  ,  0.       ],\n",
       "       [ 0.96141  ,  0.085526 ,  0.       ],\n",
       "       [ 0.93836  ,  0.012427 ,  0.       ],\n",
       "       [ 0.86348  , -0.082602 ,  0.       ],\n",
       "       [ 0.89804  , -0.20687  ,  0.       ],\n",
       "       [ 0.85196  , -0.36769  ,  0.       ],\n",
       "       [ 0.82892  , -0.5212   ,  0.       ],\n",
       "       [ 0.79435  , -0.55775  ,  0.       ],\n",
       "       [ 0.59274  , -0.7405   ,  0.       ],\n",
       "       [ 0.51786  , -0.5943   ,  0.       ],\n",
       "       [ 0.46601  , -0.41886  ,  0.       ],\n",
       "       [ 0.35081  , -0.57968  ,  0.       ],\n",
       "       [ 0.28744  , -0.76974  ,  0.       ],\n",
       "       [ 0.085829 , -0.75512  ,  0.       ],\n",
       "       [ 0.14919  , -0.57968  ,  0.       ],\n",
       "       [-0.13306  , -0.4481   ,  0.       ],\n",
       "       [-0.40956  , -0.41155  ,  0.       ],\n",
       "       [-0.39228  , -0.25804  ,  0.       ],\n",
       "       [-0.74366  , -0.25804  ,  0.       ],\n",
       "       [-0.69758  ,  0.041667 ,  0.       ],\n",
       "       [-0.75518  ,  0.2902   ,  0.       ],\n",
       "       [-0.69758  ,  0.68494  ,  0.       ],\n",
       "       [-0.4038   ,  0.70687  ,  0.       ],\n",
       "       [-0.38076  ,  0.91886  ,  0.       ],\n",
       "       [-0.50749  ,  0.90424  ,  0.       ],\n",
       "       [-0.54781  ,  0.70687  ,  0.       ],\n",
       "       [ 0.10311  ,  0.77997  ,  0.       ],\n",
       "       [ 0.057028 ,  0.91886  ,  0.       ],\n",
       "       [-0.10426  ,  0.99196  ,  0.       ],\n",
       "       [-0.081221 ,  1.1089   ,  0.       ],\n",
       "       [ 0.28744  ,  1.087    ,  0.       ],\n",
       "       [ 0.39689  ,  0.82383  ,  0.       ],\n",
       "       [ 0.63882  ,  0.88962  ,  0.       ],\n",
       "       [ 0.82316  ,  0.66301  ,  0.       ],\n",
       "       [ 0.67339  ,  0.64108  ,  0.       ],\n",
       "       [ 1.0709   ,  0.10015  ,  0.       ],\n",
       "       [-0.046659 , -0.57968  ,  0.       ],\n",
       "       [-0.23675  , -0.63816  ,  0.       ],\n",
       "       [-0.15035  , -0.36769  ,  0.       ],\n",
       "       [-0.49021  , -0.3019   ,  0.       ],\n",
       "       [-0.46717  , -0.13377  ,  0.       ],\n",
       "       [-0.28859  , -0.060673 ,  0.       ],\n",
       "       [-0.61118  , -0.067982 ,  0.       ],\n",
       "       [-0.66302  , -0.21418  ,  0.       ],\n",
       "       [-0.59965  , -0.41886  ,  0.       ],\n",
       "       [-0.72638  , -0.082602 ,  0.       ],\n",
       "       [-0.83007  ,  0.31213  ,  0.       ],\n",
       "       [-0.72062  ,  0.53874  ,  0.       ],\n",
       "       [-0.59389  ,  0.49488  ,  0.       ],\n",
       "       [-0.48445  ,  0.99927  ,  0.       ],\n",
       "       [-0.0063364,  0.99927  ,  0.       ],\n",
       "       [ 0.63265  , -0.030612 ,  0.       ]])"
      ]
     },
     "execution_count": 5,
     "metadata": {},
     "output_type": "execute_result"
    }
   ],
   "source": [
    "df1"
   ]
  },
  {
   "cell_type": "code",
   "execution_count": 6,
   "id": "d80d88f7",
   "metadata": {},
   "outputs": [
    {
     "name": "stdout",
     "output_type": "stream",
     "text": [
      "[[ 0.051267  0.69956 ]\n",
      " [-0.092742  0.68494 ]\n",
      " [-0.21371   0.69225 ]\n",
      " [-0.375     0.50219 ]\n",
      " [-0.51325   0.46564 ]]\n",
      "<class 'numpy.ndarray'>\n",
      "(118, 2)\n"
     ]
    }
   ],
   "source": [
    "print(X_train[:5])\n",
    "print(type(X_train))\n",
    "print(X_train.shape)"
   ]
  },
  {
   "cell_type": "code",
   "execution_count": 7,
   "id": "209d8c50",
   "metadata": {},
   "outputs": [
    {
     "name": "stdout",
     "output_type": "stream",
     "text": [
      "[1. 1. 1. 1. 1.]\n",
      "<class 'numpy.ndarray'>\n",
      "(118,)\n"
     ]
    }
   ],
   "source": [
    "print(y_train[:5])\n",
    "print(type(y_train))\n",
    "print(y_train.shape)"
   ]
  },
  {
   "cell_type": "code",
   "execution_count": 8,
   "id": "9d14ee8f",
   "metadata": {
    "scrolled": false
   },
   "outputs": [
    {
     "data": {
      "image/png": "[encoded data removed]",
      "text/plain": [
       "<Figure size 640x480 with 1 Axes>"
      ]
     },
     "metadata": {},
     "output_type": "display_data"
    }
   ],
   "source": [
    "plt.scatter(X_train,y)\n",
    "plt.ylabel(\"Exam 2 score\")\n",
    "plt.xlabel(\"Exam 1 score\")\n",
    "plt.show()"
   ]
  },
  {
   "cell_type": "code",
   "execution_count": 9,
   "id": "0dc48647",
   "metadata": {},
   "outputs": [],
   "source": [
    "def sigmoid(z):\n",
    "    g=1/(1+np.exp(-z))\n",
    "    return g"
   ]
  },
  {
   "cell_type": "code",
   "execution_count": 10,
   "id": "9013dc1b",
   "metadata": {},
   "outputs": [],
   "source": [
    "def cost(X,y,w,b, lambd=1):\n",
    "    m,n=X.shape\n",
    "    loss_sum=0\n",
    "    for i in range(m):\n",
    "        z_wb=0\n",
    "        for j in range(n):\n",
    "            z_wb_ij=w[j]*X[i][j]\n",
    "            z_wb+=z_wb_ij\n",
    "        z_wb+=b\n",
    "        f_wb=sigmoid(z_wb)\n",
    "        loss=-y[i]*np.log(f_wb)-(1-y[i])*np.log(1-f_wb)\n",
    "        loss_sum+=loss\n",
    "    total_cost=(1/m)*loss_sum\n",
    "    return total_cost"
   ]
  },
  {
   "cell_type": "code",
   "execution_count": 11,
   "id": "6facb871",
   "metadata": {},
   "outputs": [
    {
     "name": "stdout",
     "output_type": "stream",
     "text": [
      "0.6931471805599461\n"
     ]
    }
   ],
   "source": [
    "m,n=X_train.shape\n",
    "w=np.zeros(n)\n",
    "b=0.\n",
    "cost1=cost(X_train,y_train,w,b)\n",
    "print(cost1)\n"
   ]
  },
  {
   "cell_type": "code",
   "execution_count": 12,
   "id": "b51afb86",
   "metadata": {},
   "outputs": [
    {
     "name": "stdout",
     "output_type": "stream",
     "text": [
      "11.776595295633166\n"
     ]
    }
   ],
   "source": [
    "t_w=np.array([0.2, 0.2])\n",
    "t_b=-24\n",
    "cost2=cost(X_train,y_train,t_w,t_b)\n",
    "print(cost2)"
   ]
  },
  {
   "cell_type": "code",
   "execution_count": 13,
   "id": "bb325e13",
   "metadata": {},
   "outputs": [],
   "source": [
    "def gradient(X,y,w,b,lambd=None):\n",
    "    m, n = X.shape\n",
    "    dj_dw = np.zeros(w.shape)\n",
    "    dj_db = 0.\n",
    "\n",
    "    \n",
    "    for i in range(m):\n",
    "    \n",
    "            \n",
    "        z_wb = 0\n",
    "\n",
    "        for j in range(n): \n",
    "            z_wb_ij = X[i, j] * w[j]\n",
    "            z_wb += z_wb_ij\n",
    "\n",
    "        z_wb += b\n",
    "        f_wb = sigmoid(z_wb)\n",
    "\n",
    "        dj_db_i =f_wb - y[i]\n",
    "\n",
    "        dj_db += dj_db_i\n",
    "\n",
    "        # get dj_dw for each attribute\n",
    "        for j in range(n):\n",
    "            # You code here to calculate the gradient from the i-th example for j-th attribute\n",
    "            dj_dw_ij = (f_wb - y[i])* X[i][j]\n",
    "            dj_dw[j] += dj_dw_ij\n",
    "\n",
    "    dj_dw = dj_dw / m\n",
    "    dj_db = dj_db / m\n",
    "            \n",
    "   \n",
    "\n",
    "        \n",
    "    return dj_db, dj_dw"
   ]
  },
  {
   "cell_type": "code",
   "execution_count": 14,
   "id": "e85b5ae4",
   "metadata": {},
   "outputs": [
    {
     "name": "stdout",
     "output_type": "stream",
     "text": [
      "0.00847457627118644\n",
      "[1.87880932e-02 7.77711864e-05]\n"
     ]
    }
   ],
   "source": [
    "dj_db,dj_dw=gradient(X_train,y_train,w,b)\n",
    "print(dj_db)\n",
    "print(dj_dw)"
   ]
  },
  {
   "cell_type": "code",
   "execution_count": 15,
   "id": "7d29b091",
   "metadata": {},
   "outputs": [],
   "source": [
    "def gradient_descent(X, y, w_in, b_in, cost_function, gradient_function, alpha, num_iters, lambda_): \n",
    "    \"\"\"\n",
    "    Performs batch gradient descent to learn theta. Updates theta by taking \n",
    "    num_iters gradient steps with learning rate alpha\n",
    "    \n",
    "    Args:\n",
    "      X :    (array_like Shape (m, n)\n",
    "      y :    (array_like Shape (m,))\n",
    "      w_in : (array_like Shape (n,))  Initial values of parameters of the model\n",
    "      b_in : (scalar)                 Initial value of parameter of the model\n",
    "      cost_function:                  function to compute cost\n",
    "      alpha : (float)                 Learning rate\n",
    "      num_iters : (int)               number of iterations to run gradient descent\n",
    "      lambda_ (scalar, float)         regularization constant\n",
    "      \n",
    "    Returns:\n",
    "      w : (array_like Shape (n,)) Updated values of parameters of the model after\n",
    "          running gradient descent\n",
    "      b : (scalar)                Updated value of parameter of the model after\n",
    "          running gradient descent\n",
    "    \"\"\"\n",
    "    \n",
    "    # number of training examples\n",
    "    m = len(X)\n",
    "    \n",
    "    # An array to store cost J and w's at each iteration primarily for graphing later\n",
    "    J_history = []\n",
    "    w_history = []\n",
    "    \n",
    "    for i in range(num_iters):\n",
    "\n",
    "        # Calculate the gradient and update the parameters\n",
    "        dj_db, dj_dw = gradient_function(X, y, w_in, b_in, lambda_)   \n",
    "\n",
    "        # Update Parameters using w, b, alpha and gradient\n",
    "        w_in = w_in - alpha * dj_dw               \n",
    "        b_in = b_in - alpha * dj_db              \n",
    "       \n",
    "        # Save cost J at each iteration\n",
    "        if i<100000:      # prevent resource exhaustion \n",
    "            cost =  cost_function(X, y, w_in, b_in, lambda_)\n",
    "            J_history.append(cost)\n",
    "\n",
    "        # Print cost every at intervals 10 times or as many iterations if < 10\n",
    "        if i% math.ceil(num_iters/10) == 0 or i == (num_iters-1):\n",
    "            w_history.append(w_in)\n",
    "            print(f\"Iteration {i:4}: Cost {float(J_history[-1]):8.2f}   \")\n",
    "        \n",
    "    return w_in, b_in, J_history, w_history #return w and J,w history for graphing"
   ]
  },
  {
   "cell_type": "code",
   "execution_count": 16,
   "id": "74f8a197",
   "metadata": {},
   "outputs": [
    {
     "ename": "NameError",
     "evalue": "name 'math' is not defined",
     "output_type": "error",
     "traceback": [
      "\u001b[1;31m---------------------------------------------------------------------------\u001b[0m",
      "\u001b[1;31mNameError\u001b[0m                                 Traceback (most recent call last)",
      "\u001b[1;32m~\\AppData\\Local\\Temp\\ipykernel_16180\\2198706984.py\u001b[0m in \u001b[0;36m<module>\u001b[1;34m\u001b[0m\n\u001b[0;32m      8\u001b[0m \u001b[0malpha\u001b[0m \u001b[1;33m=\u001b[0m \u001b[1;36m0.001\u001b[0m\u001b[1;33m\u001b[0m\u001b[1;33m\u001b[0m\u001b[0m\n\u001b[0;32m      9\u001b[0m \u001b[1;33m\u001b[0m\u001b[0m\n\u001b[1;32m---> 10\u001b[1;33m w,b, J_history,_ = gradient_descent(X_train ,y_train, w, b, \n\u001b[0m\u001b[0;32m     11\u001b[0m                                    cost,gradient, alpha, iterations, 0)\n",
      "\u001b[1;32m~\\AppData\\Local\\Temp\\ipykernel_16180\\4135190203.py\u001b[0m in \u001b[0;36mgradient_descent\u001b[1;34m(X, y, w_in, b_in, cost_function, gradient_function, alpha, num_iters, lambda_)\u001b[0m\n\u001b[0;32m     43\u001b[0m \u001b[1;33m\u001b[0m\u001b[0m\n\u001b[0;32m     44\u001b[0m         \u001b[1;31m# Print cost every at intervals 10 times or as many iterations if < 10\u001b[0m\u001b[1;33m\u001b[0m\u001b[1;33m\u001b[0m\u001b[0m\n\u001b[1;32m---> 45\u001b[1;33m         \u001b[1;32mif\u001b[0m \u001b[0mi\u001b[0m\u001b[1;33m%\u001b[0m \u001b[0mmath\u001b[0m\u001b[1;33m.\u001b[0m\u001b[0mceil\u001b[0m\u001b[1;33m(\u001b[0m\u001b[0mnum_iters\u001b[0m\u001b[1;33m/\u001b[0m\u001b[1;36m10\u001b[0m\u001b[1;33m)\u001b[0m \u001b[1;33m==\u001b[0m \u001b[1;36m0\u001b[0m \u001b[1;32mor\u001b[0m \u001b[0mi\u001b[0m \u001b[1;33m==\u001b[0m \u001b[1;33m(\u001b[0m\u001b[0mnum_iters\u001b[0m\u001b[1;33m-\u001b[0m\u001b[1;36m1\u001b[0m\u001b[1;33m)\u001b[0m\u001b[1;33m:\u001b[0m\u001b[1;33m\u001b[0m\u001b[1;33m\u001b[0m\u001b[0m\n\u001b[0m\u001b[0;32m     46\u001b[0m             \u001b[0mw_history\u001b[0m\u001b[1;33m.\u001b[0m\u001b[0mappend\u001b[0m\u001b[1;33m(\u001b[0m\u001b[0mw_in\u001b[0m\u001b[1;33m)\u001b[0m\u001b[1;33m\u001b[0m\u001b[1;33m\u001b[0m\u001b[0m\n\u001b[0;32m     47\u001b[0m             \u001b[0mprint\u001b[0m\u001b[1;33m(\u001b[0m\u001b[1;34mf\"Iteration {i:4}: Cost {float(J_history[-1]):8.2f}   \"\u001b[0m\u001b[1;33m)\u001b[0m\u001b[1;33m\u001b[0m\u001b[1;33m\u001b[0m\u001b[0m\n",
      "\u001b[1;31mNameError\u001b[0m: name 'math' is not defined"
     ]
    }
   ],
   "source": [
    "np.random.seed(1)\n",
    "intial_w = 0.01 * (np.random.rand(2).reshape(-1,1) - 0.5)\n",
    "initial_b = -8\n",
    "\n",
    "\n",
    "# Some gradient descent settings\n",
    "iterations = 10000\n",
    "alpha = 0.001\n",
    "\n",
    "w,b, J_history,_ = gradient_descent(X_train ,y_train, w, b, \n",
    "                                   cost,gradient, alpha, iterations, 0)"
   ]
  },
  {
   "cell_type": "code",
   "execution_count": null,
   "id": "e592036a",
   "metadata": {},
   "outputs": [],
   "source": [
    "def model(X, Y, learning_rate, iterations):\n",
    "    \n",
    "    m = X.shape\n",
    "    n = X.shape\n",
    "    \n",
    "    W =np.zeros(n)\n",
    "    B = 0\n",
    "    \n",
    "    cost_list = []\n",
    "    \n",
    "    for i in range(iterations):\n",
    "        \n",
    "        Z = np.dot(W.T,X) + B\n",
    "        A = sigmoid(Z)\n",
    "        \n",
    "        # cost function\n",
    "        cost = -(1/m)*np.sum( Y*np.log(A) + (1-Y)*np.log(1-A))\n",
    "        \n",
    "        # Gradient Descent\n",
    "        dW = (1/m)*np.dot(A-Y, X.T)\n",
    "        dB = (1/m)*np.sum(A - Y)\n",
    "        \n",
    "        W = W - learning_rate*dW.T\n",
    "        B = B - learning_rate*dB\n",
    "        \n",
    "        # Keeping track of our cost function value\n",
    "        cost_list.append(cost)\n",
    "        \n",
    "        if(i%(iterations/10) == 0):\n",
    "            print(\"cost after \", i, \"iteration is : \", cost)\n",
    "        \n",
    "    return W, B, cost_list"
   ]
  },
  {
   "cell_type": "code",
   "execution_count": null,
   "id": "cde3218b",
   "metadata": {},
   "outputs": [],
   "source": [
    "iterations = 100000\n",
    "learning_rate = 0.0015\n",
    "W, B, cost_list = model(X_train, y_train, learning_rate = learning_rate, iterations = iterations)"
   ]
  },
  {
   "cell_type": "code",
   "execution_count": null,
   "id": "75f73158",
   "metadata": {},
   "outputs": [],
   "source": []
  },
  {
   "cell_type": "code",
   "execution_count": null,
   "id": "1146c55c",
   "metadata": {},
   "outputs": [],
   "source": []
  }
 ],
 "metadata": {
  "kernelspec": {
   "display_name": "Python 3 (ipykernel)",
   "language": "python",
   "name": "python3"
  },
  "language_info": {
   "codemirror_mode": {
    "name": "ipython",
    "version": 3
   },
   "file_extension": ".py",
   "mimetype": "text/x-python",
   "name": "python",
   "nbconvert_exporter": "python",
   "pygments_lexer": "ipython3",
   "version": "3.9.13"
  }
 },
 "nbformat": 4,
 "nbformat_minor": 5
}
