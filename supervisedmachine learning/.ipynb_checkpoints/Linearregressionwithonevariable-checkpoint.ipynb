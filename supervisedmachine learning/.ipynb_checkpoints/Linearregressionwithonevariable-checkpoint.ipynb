{
 "cells": [
  {
   "cell_type": "markdown",
   "id": "6b187235",
   "metadata": {},
   "source": [
    "# Model Representation"
   ]
  },
  {
   "cell_type": "markdown",
   "id": "7edcc1fe",
   "metadata": {},
   "source": [
    "Numpy is a popular library for the scientific computing\n",
    "Matplotlib, a popular library for plotting data"
   ]
  },
  {
   "cell_type": "code",
   "execution_count": 2,
   "id": "7368ca82",
   "metadata": {},
   "outputs": [],
   "source": [
    "import numpy as np\n",
    "import matplotlib.pyplot as plt\n"
   ]
  },
  {
   "cell_type": "markdown",
   "id": "72e7bd28",
   "metadata": {},
   "source": [
    "we just imported the libraries which are used for the further calculations "
   ]
  },
  {
   "cell_type": "markdown",
   "id": "34f12db9",
   "metadata": {},
   "source": [
    "Now we take input variable x_tran and y_train they are one_dimensional NumPy arrays"
   ]
  },
  {
   "cell_type": "code",
   "execution_count": 3,
   "id": "c438cff1",
   "metadata": {},
   "outputs": [
    {
     "name": "stdout",
     "output_type": "stream",
     "text": [
      "x_train=[1. 2.]\n",
      "y_train=[300. 500.]\n"
     ]
    }
   ],
   "source": [
    "x_train=np.array([1.0,2.0])\n",
    "y_train=np.array([300.0,500.0])\n",
    "print(f\"x_train={x_train}\")\n",
    "print(f\"y_train={y_train}\")"
   ]
  },
  {
   "cell_type": "markdown",
   "id": "4ca65f4f",
   "metadata": {},
   "source": [
    "Here m is used to denote the number of training examples. \n",
    ".shape returns a python tuple with an entry for each dimension.\n",
    ".shape[0] is the length of the array and the number of examples as shown below"
   ]
  },
  {
   "cell_type": "code",
   "execution_count": 4,
   "id": "0685c9fe",
   "metadata": {},
   "outputs": [
    {
     "name": "stdout",
     "output_type": "stream",
     "text": [
      "x_train.shape:(2,)\n",
      "NUmber of training examples is:2\n"
     ]
    }
   ],
   "source": [
    "print(f\"x_train.shape:{x_train.shape}\")\n",
    "m=x_train.shape[0]\n",
    "print(f\"NUmber of training examples is:{m}\")"
   ]
  },
  {
   "cell_type": "markdown",
   "id": "f3775fea",
   "metadata": {},
   "source": [
    "We can also use len() function "
   ]
  },
  {
   "cell_type": "code",
   "execution_count": 5,
   "id": "f03b78f2",
   "metadata": {},
   "outputs": [
    {
     "name": "stdout",
     "output_type": "stream",
     "text": [
      "Number of training examples is:2\n"
     ]
    }
   ],
   "source": [
    "m=len(x_train)\n",
    "print(f\"Number of training examples is:{m}\")"
   ]
  },
  {
   "cell_type": "markdown",
   "id": "9680c05e",
   "metadata": {},
   "source": [
    "we us x^i,y^i to denote the i^th training example."
   ]
  },
  {
   "cell_type": "code",
   "execution_count": 6,
   "id": "0ac99a55",
   "metadata": {},
   "outputs": [
    {
     "name": "stdout",
     "output_type": "stream",
     "text": [
      "(x^i(0),y^(0))=(1.0,300.0)\n"
     ]
    }
   ],
   "source": [
    "i=0\n",
    "x_i=x_train[i]\n",
    "y_i=y_train[i]\n",
    "print(f\"(x^i({i}),y^({i}))=({x_i},{y_i})\")"
   ]
  },
  {
   "cell_type": "markdown",
   "id": "574365c6",
   "metadata": {},
   "source": [
    "## plotting the data"
   ]
  },
  {
   "cell_type": "markdown",
   "id": "e4234bae",
   "metadata": {},
   "source": [
    "we can plot the data between these points using the scatter() fucntion in the matlplotlib library \n",
    "\n",
    "Arguments marker is used to show the points and c to show the color of the marker\n"
   ]
  },
  {
   "cell_type": "code",
   "execution_count": 10,
   "id": "322e53b5",
   "metadata": {},
   "outputs": [
    {
     "data": {
      "image/png": "[encoded data removed]",
      "text/plain": [
       "<Figure size 432x288 with 1 Axes>"
      ]
     },
     "metadata": {
      "needs_background": "light"
     },
     "output_type": "display_data"
    }
   ],
   "source": [
    "plt.scatter(x_train,y_train,marker='o',c='b')\n",
    "plt.title(\"Housing prices\")\n",
    "plt.ylabel(\"prices (in 1000s of dollars)\")\n",
    "plt.show()"
   ]
  },
  {
   "cell_type": "code",
   "execution_count": 21,
   "id": "797b2d8f",
   "metadata": {},
   "outputs": [
    {
     "name": "stdout",
     "output_type": "stream",
     "text": [
      "w:100\n",
      "b:100\n"
     ]
    }
   ],
   "source": [
    "w=100\n",
    "b=100\n",
    "print(f\"w:{w}\")\n",
    "print(f\"b:{b}\")"
   ]
  },
  {
   "cell_type": "code",
   "execution_count": 22,
   "id": "5f4da92d",
   "metadata": {},
   "outputs": [],
   "source": [
    "def model(x,w,b):\n",
    "    m=x.shape[0]\n",
    "    f_wb=np.zeros(m)\n",
    "    for i in range(m):\n",
    "        f_wb[i]=w*x[i]+b\n",
    "    return f_wb"
   ]
  },
  {
   "cell_type": "code",
   "execution_count": 23,
   "id": "651483c6",
   "metadata": {},
   "outputs": [
    {
     "data": {
      "text/plain": [
       "<matplotlib.collections.PathCollection at 0x266e54db880>"
      ]
     },
     "execution_count": 23,
     "metadata": {},
     "output_type": "execute_result"
    },
    {
     "data": {
      "image/png": "[encoded data removed]",
      "text/plain": [
       "<Figure size 432x288 with 1 Axes>"
      ]
     },
     "metadata": {
      "needs_background": "light"
     },
     "output_type": "display_data"
    }
   ],
   "source": [
    "temp_f_wb=model(x_train,w,b)\n",
    "plt.plot(x_train,temp_f_wb,c='b',label='Our prediction')\n",
    "plt.scatter(x_train,y_train,marker='x',c='r')"
   ]
  },
  {
   "cell_type": "code",
   "execution_count": null,
   "id": "2350c98a",
   "metadata": {},
   "outputs": [],
   "source": [
    "import pandas as pd\n",
    "import numpy as np\n",
    "import matplotib.pyplot as plt\n"
   ]
  }
 ],
 "metadata": {
  "kernelspec": {
   "display_name": "Python 3 (ipykernel)",
   "language": "python",
   "name": "python3"
  },
  "language_info": {
   "codemirror_mode": {
    "name": "ipython",
    "version": 3
   },
   "file_extension": ".py",
   "mimetype": "text/x-python",
   "name": "python",
   "nbconvert_exporter": "python",
   "pygments_lexer": "ipython3",
   "version": "3.9.13"
  }
 },
 "nbformat": 4,
 "nbformat_minor": 5
}
