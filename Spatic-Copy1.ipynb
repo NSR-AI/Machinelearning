{
 "cells": [
  {
   "cell_type": "markdown",
   "id": "d83fa71e",
   "metadata": {},
   "source": [
    "  # Identifying entries "
   ]
  },
  {
   "cell_type": "markdown",
   "id": "0b0d9150",
   "metadata": {},
   "source": [
    "###  1.Import the necessary packages"
   ]
  },
  {
   "cell_type": "code",
   "execution_count": 20,
   "id": "d3ef75f1",
   "metadata": {},
   "outputs": [],
   "source": [
    "import numpy as np  #numpy are imported\n",
    "import pandas as pd\n",
    "from geopy.distance import distance\n",
    "from math import radians, sin, cos, sqrt, asin"
   ]
  },
  {
   "cell_type": "markdown",
   "id": "c176399a",
   "metadata": {},
   "source": [
    "we are going to read the data from the given dataset file. "
   ]
  },
  {
   "cell_type": "code",
   "execution_count": 21,
   "id": "e95dab35",
   "metadata": {},
   "outputs": [
    {
     "data": {
      "text/html": [
       "<div>\n",
       "<style scoped>\n",
       "    .dataframe tbody tr th:only-of-type {\n",
       "        vertical-align: middle;\n",
       "    }\n",
       "\n",
       "    .dataframe tbody tr th {\n",
       "        vertical-align: top;\n",
       "    }\n",
       "\n",
       "    .dataframe thead th {\n",
       "        text-align: right;\n",
       "    }\n",
       "</style>\n",
       "<table border=\"1\" class=\"dataframe\">\n",
       "  <thead>\n",
       "    <tr style=\"text-align: right;\">\n",
       "      <th></th>\n",
       "      <th>name</th>\n",
       "      <th>latitude</th>\n",
       "      <th>longitude</th>\n",
       "    </tr>\n",
       "  </thead>\n",
       "  <tbody>\n",
       "    <tr>\n",
       "      <th>0</th>\n",
       "      <td>kbyJYJzqEVkEmpc</td>\n",
       "      <td>13.022860</td>\n",
       "      <td>77.688911</td>\n",
       "    </tr>\n",
       "    <tr>\n",
       "      <th>1</th>\n",
       "      <td>qbgufTPzZEkxNHV</td>\n",
       "      <td>13.093675</td>\n",
       "      <td>77.702779</td>\n",
       "    </tr>\n",
       "    <tr>\n",
       "      <th>2</th>\n",
       "      <td>XWIXkuyDacCmsaE</td>\n",
       "      <td>12.902879</td>\n",
       "      <td>77.633207</td>\n",
       "    </tr>\n",
       "    <tr>\n",
       "      <th>3</th>\n",
       "      <td>PWMPzEhgQSIJFtLl</td>\n",
       "      <td>12.864532</td>\n",
       "      <td>77.731435</td>\n",
       "    </tr>\n",
       "    <tr>\n",
       "      <th>4</th>\n",
       "      <td>PWMPzEhgQSIJFtL</td>\n",
       "      <td>12.865321</td>\n",
       "      <td>77.731473</td>\n",
       "    </tr>\n",
       "    <tr>\n",
       "      <th>...</th>\n",
       "      <td>...</td>\n",
       "      <td>...</td>\n",
       "      <td>...</td>\n",
       "    </tr>\n",
       "    <tr>\n",
       "      <th>11809</th>\n",
       "      <td>OtytDvqWIjeFdAt</td>\n",
       "      <td>12.864681</td>\n",
       "      <td>77.561012</td>\n",
       "    </tr>\n",
       "    <tr>\n",
       "      <th>11810</th>\n",
       "      <td>PGHxYVTKBPvJzRcr</td>\n",
       "      <td>12.878795</td>\n",
       "      <td>77.549211</td>\n",
       "    </tr>\n",
       "    <tr>\n",
       "      <th>11811</th>\n",
       "      <td>PGHxYVTKBPvJzRc</td>\n",
       "      <td>12.879561</td>\n",
       "      <td>77.549147</td>\n",
       "    </tr>\n",
       "    <tr>\n",
       "      <th>11812</th>\n",
       "      <td>KlOFLLHNAvTQOkU</td>\n",
       "      <td>13.061351</td>\n",
       "      <td>77.661640</td>\n",
       "    </tr>\n",
       "    <tr>\n",
       "      <th>11813</th>\n",
       "      <td>BKEsZzrJiKhKIae</td>\n",
       "      <td>13.019981</td>\n",
       "      <td>77.679988</td>\n",
       "    </tr>\n",
       "  </tbody>\n",
       "</table>\n",
       "<p>11814 rows × 3 columns</p>\n",
       "</div>"
      ],
      "text/plain": [
       "                   name   latitude  longitude\n",
       "0       kbyJYJzqEVkEmpc  13.022860  77.688911\n",
       "1       qbgufTPzZEkxNHV  13.093675  77.702779\n",
       "2       XWIXkuyDacCmsaE  12.902879  77.633207\n",
       "3      PWMPzEhgQSIJFtLl  12.864532  77.731435\n",
       "4       PWMPzEhgQSIJFtL  12.865321  77.731473\n",
       "...                 ...        ...        ...\n",
       "11809   OtytDvqWIjeFdAt  12.864681  77.561012\n",
       "11810  PGHxYVTKBPvJzRcr  12.878795  77.549211\n",
       "11811   PGHxYVTKBPvJzRc  12.879561  77.549147\n",
       "11812   KlOFLLHNAvTQOkU  13.061351  77.661640\n",
       "11813   BKEsZzrJiKhKIae  13.019981  77.679988\n",
       "\n",
       "[11814 rows x 3 columns]"
      ]
     },
     "execution_count": 21,
     "metadata": {},
     "output_type": "execute_result"
    }
   ],
   "source": [
    "df=pd.read_csv(\"C:\\\\Users\\\\nshra\\\\Downloads\\\\assignment_data.csv\")\n",
    "df"
   ]
  },
  {
   "cell_type": "code",
   "execution_count": 22,
   "id": "a87d6c17",
   "metadata": {
    "scrolled": true
   },
   "outputs": [
    {
     "name": "stdout",
     "output_type": "stream",
     "text": [
      "               name   latitude  longitude\n",
      "0   kbyJYJzqEVkEmpc  13.022860  77.688911\n",
      "1   qbgufTPzZEkxNHV  13.093675  77.702779\n",
      "2   XWIXkuyDacCmsaE  12.902879  77.633207\n",
      "3  PWMPzEhgQSIJFtLl  12.864532  77.731435\n",
      "4   PWMPzEhgQSIJFtL  12.865321  77.731473\n"
     ]
    }
   ],
   "source": [
    "print(df.head())"
   ]
  },
  {
   "cell_type": "code",
   "execution_count": 23,
   "id": "4824598a",
   "metadata": {},
   "outputs": [
    {
     "name": "stdout",
     "output_type": "stream",
     "text": [
      "(11814, 3)\n"
     ]
    }
   ],
   "source": [
    "print(df.shape)"
   ]
  },
  {
   "cell_type": "markdown",
   "id": "7dd092db",
   "metadata": {},
   "source": [
    "### 2.Inserting the another column for output"
   ]
  },
  {
   "cell_type": "code",
   "execution_count": 24,
   "id": "7c22e7d4",
   "metadata": {},
   "outputs": [],
   "source": [
    "df.insert(3,\"is_similar\",0)"
   ]
  },
  {
   "cell_type": "markdown",
   "id": "f3a0081c",
   "metadata": {},
   "source": [
    "### 3.Claculating Haversine formula to calculate distance between two coordinates"
   ]
  },
  {
   "cell_type": "markdown",
   "id": "ccde8dc0",
   "metadata": {},
   "source": [
    "def haversine(coord1, coord2):\n",
    "    # Convert coordinates to radians\n",
    "    lon1, lat1 = map(radians, coord1)\n",
    "    lon2, lat2 = map(radians, coord2)\n",
    "    # Haversine formula\n",
    "    dlon = lon2 - lon1\n",
    "    dlat = lat2 - lat1\n",
    "    a = sin(dlat/2)**2 + cos(lat1) * cos(lat2) * sin(dlon/2)**2\n",
    "    c = 2 * asin(sqrt(a))\n",
    "    # Radius of earth in kilometers\n",
    "    r = 6371\n",
    "    # Distance in meters\n",
    "    return c * r * 1000"
   ]
  },
  {
   "cell_type": "markdown",
   "id": "cf46806d",
   "metadata": {},
   "source": [
    "### 4.Finding coordinates i.e matching different coordinates"
   ]
  },
  {
   "cell_type": "code",
   "execution_count": null,
   "id": "5e73c085",
   "metadata": {},
   "outputs": [],
   "source": [
    "\n",
    "for row1 in range(len(df)):\n",
    "    for row2 in range(row1+1,len(df)):\n",
    "        Coordinate_1           = (df.iloc[row1][1],df.iloc[row1][2])\n",
    "        Coordinate_2           = (df.iloc[row2][1],df.iloc[row2][2])\n",
    "        #Finding distance in meters via 'geopy' library in meters\n",
    "        \n",
    "        Distance_In_Meters     = (geodesic(Coordinate_1, Coordinate_2).meters)\n",
    "        \n",
    "        #If wrong input is present means except runs\n",
    "        try:\n",
    "            #Checking if the distance is '<=200' \n",
    "            if(Distance_In_Meters <= 200):\n",
    "               \n",
    "                City_1 = df.iloc[row1][0]\n",
    "                \n",
    "                Len_City_1 = len(City_1)\n",
    "               \n",
    "                City_2 = df.iloc[row2][0]\n",
    "           \n",
    "                Len_City_2 = len(City_2)\n",
    "               \n",
    "                Table      = [[0]*(Len_City_2+1) for each in range(Len_City_1+1)]\n",
    "                \n",
    "                for row in range(Len_City_1+1):\n",
    "                   \n",
    "                    Table[row][0] = row\n",
    "                for row in range(Len_City_2+1):\n",
    "                    \n",
    "                    Table[0][row] = row\n",
    "                #Iterating all character of both city and seeing the cost to make it rowth character of city-1 to colth charcter of city-2    \n",
    "                for row in range(1,Len_City_1+1):\n",
    "                    for col in range(1,Len_City_2+1):\n",
    "                        \n",
    "                        Table[row][col] = Table[row-1][col-1]\n",
    "                        \n",
    "                        if(City_1[row-1] != City_2[col-1]):\n",
    "                            Table[row][col] = 1 + min(Table[row][col],Table[row-1][col],Table[row][col-1])\n",
    "                #checkig the cost to make two strings identical if less than 5           \n",
    "                if(Table[Len_City_1][Len_City_2]<5):\n",
    "                    #if cost<5 then mark both the citys Similarity.\n",
    "                    df.iloc[row1,3] = 1\n",
    "                    df.iloc[row2,3] = 1\n",
    "        except:\n",
    "\n",
    "            print(df.iloc[row1][0],df.iloc[row2][0],len(df.iloc[row1][0]),len(df.iloc[row2][0]),len(Table),len(Table[0]))            \n",
    "    "
   ]
  },
  {
   "cell_type": "markdown",
   "id": "00f55171",
   "metadata": {},
   "source": [
    "### 5.Output file"
   ]
  },
  {
   "cell_type": "code",
   "execution_count": null,
   "id": "77b185c6",
   "metadata": {},
   "outputs": [],
   "source": [
    "# storing the output to file\n",
    "df.to_csv(\"output.csv\")"
   ]
  }
 ],
 "metadata": {
  "kernelspec": {
   "display_name": "Python 3 (ipykernel)",
   "language": "python",
   "name": "python3"
  },
  "language_info": {
   "codemirror_mode": {
    "name": "ipython",
    "version": 3
   },
   "file_extension": ".py",
   "mimetype": "text/x-python",
   "name": "python",
   "nbconvert_exporter": "python",
   "pygments_lexer": "ipython3",
   "version": "3.9.13"
  }
 },
 "nbformat": 4,
 "nbformat_minor": 5
}
