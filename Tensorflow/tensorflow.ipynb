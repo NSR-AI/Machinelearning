{
 "cells": [
  {
   "cell_type": "code",
   "execution_count": 6,
   "id": "491f0478-e7e4-4e4b-a8ae-f6c2ebd66da5",
   "metadata": {},
   "outputs": [],
   "source": [
    "import tensorflow as tf\n",
    "import numpy as np"
   ]
  },
  {
   "cell_type": "code",
   "execution_count": 4,
   "id": "f0537066-5227-4ff6-b0ab-30aaad5c28bd",
   "metadata": {},
   "outputs": [
    {
     "data": {
      "text/plain": [
       "'2.12.0'"
      ]
     },
     "execution_count": 4,
     "metadata": {},
     "output_type": "execute_result"
    }
   ],
   "source": [
    "tf.__version__"
   ]
  },
  {
   "cell_type": "code",
   "execution_count": 8,
   "id": "fe4c03f8-2b6e-4411-bb5f-e5c8557d8769",
   "metadata": {},
   "outputs": [
    {
     "name": "stdout",
     "output_type": "stream",
     "text": [
      "tf.Tensor(4, shape=(), dtype=int32)\n"
     ]
    }
   ],
   "source": [
    "rank_0=tf.constant(4)\n",
    "print(rank_0)"
   ]
  },
  {
   "cell_type": "code",
   "execution_count": 9,
   "id": "53313aab-98d1-4ccd-9504-4ecce8625be7",
   "metadata": {},
   "outputs": [
    {
     "name": "stdout",
     "output_type": "stream",
     "text": [
      "tf.Tensor([2. 3. 4.], shape=(3,), dtype=float32)\n"
     ]
    }
   ],
   "source": [
    "rank_1=tf.constant([2.0,3.0,4.0])\n",
    "print(rank_1)"
   ]
  },
  {
   "cell_type": "code",
   "execution_count": 10,
   "id": "2920f23a-da3a-43ed-a27f-169a30672749",
   "metadata": {},
   "outputs": [
    {
     "name": "stdout",
     "output_type": "stream",
     "text": [
      "tf.Tensor(\n",
      "[[1. 2.]\n",
      " [3. 4.]\n",
      " [5. 6.]], shape=(3, 2), dtype=float16)\n"
     ]
    }
   ],
   "source": [
    "rank_2=tf.constant([[1,2],\n",
    "                    [3,4],\n",
    "                    [5,6]],dtype=tf.float16)\n",
    "print(rank_2)"
   ]
  },
  {
   "cell_type": "code",
   "execution_count": 14,
   "id": "6d5bd946-4301-4ee0-8bd2-46166cf97fbc",
   "metadata": {},
   "outputs": [
    {
     "data": {
      "text/plain": [
       "(tf.float16, TensorShape([3, 2]))"
      ]
     },
     "execution_count": 14,
     "metadata": {},
     "output_type": "execute_result"
    }
   ],
   "source": [
    "rank_2.dtype,rank_2.shape"
   ]
  },
  {
   "cell_type": "raw",
   "id": "58714eb9-b592-42c3-8c3d-f3166cc8eea3",
   "metadata": {},
   "source": [
    "np.array(rank_2)"
   ]
  },
  {
   "cell_type": "code",
   "execution_count": 15,
   "id": "6038c220-95c7-460f-8623-f8475b186e04",
   "metadata": {},
   "outputs": [
    {
     "name": "stdout",
     "output_type": "stream",
     "text": [
      "tf.Tensor(\n",
      "[[2 3]\n",
      " [4 5]], shape=(2, 2), dtype=int32)\n"
     ]
    }
   ],
   "source": [
    "a=tf.constant([[1,2],\n",
    "               [3,4]])\n",
    "b=tf.constant([[1,1],\n",
    "               [1,1]])\n",
    "print(tf.add(a,b))"
   ]
  },
  {
   "cell_type": "code",
   "execution_count": 16,
   "id": "fa7d547c-5193-47ba-b7fe-1e8045c717c5",
   "metadata": {},
   "outputs": [
    {
     "name": "stdout",
     "output_type": "stream",
     "text": [
      "tf.Tensor(\n",
      "[[1 2]\n",
      " [3 4]], shape=(2, 2), dtype=int32)\n"
     ]
    }
   ],
   "source": [
    "print(tf.multiply(a,b))"
   ]
  },
  {
   "cell_type": "code",
   "execution_count": 18,
   "id": "364454fe-9bed-44af-ae0e-bd094d11fb0b",
   "metadata": {},
   "outputs": [
    {
     "name": "stdout",
     "output_type": "stream",
     "text": [
      "tf.Tensor(\n",
      "[[3 3]\n",
      " [7 7]], shape=(2, 2), dtype=int32)\n"
     ]
    }
   ],
   "source": [
    "print(tf.matmul(a,b))"
   ]
  },
  {
   "cell_type": "code",
   "execution_count": 19,
   "id": "aa44273b-8a4c-4849-bc80-1e64efa049e7",
   "metadata": {},
   "outputs": [
    {
     "name": "stdout",
     "output_type": "stream",
     "text": [
      "tf.Tensor(\n",
      "[[2 3]\n",
      " [4 5]], shape=(2, 2), dtype=int32)\n"
     ]
    }
   ],
   "source": [
    "print(a+b)"
   ]
  },
  {
   "cell_type": "code",
   "execution_count": 20,
   "id": "502e5a77-e61e-4f57-b2b2-1c31f69bf092",
   "metadata": {},
   "outputs": [
    {
     "name": "stdout",
     "output_type": "stream",
     "text": [
      "tf.Tensor(\n",
      "[[0 1]\n",
      " [2 3]], shape=(2, 2), dtype=int32)\n"
     ]
    }
   ],
   "source": [
    "print(a-b)"
   ]
  },
  {
   "cell_type": "code",
   "execution_count": 21,
   "id": "fa48a335-f8b3-4d7e-9746-043e019bf1b1",
   "metadata": {},
   "outputs": [
    {
     "name": "stdout",
     "output_type": "stream",
     "text": [
      "tf.Tensor(6.0, shape=(), dtype=float16)\n"
     ]
    }
   ],
   "source": [
    "print(tf.reduce_max(rank_2))"
   ]
  },
  {
   "cell_type": "code",
   "execution_count": 22,
   "id": "c171dc68-87f5-4c72-a2ff-2101dc626af6",
   "metadata": {},
   "outputs": [
    {
     "name": "stdout",
     "output_type": "stream",
     "text": [
      "tf.Tensor([2 2], shape=(2,), dtype=int64)\n"
     ]
    }
   ],
   "source": [
    "print(tf.math.argmax(rank_2))"
   ]
  },
  {
   "cell_type": "code",
   "execution_count": 23,
   "id": "adbc725e-7fb9-4187-997d-b17ca5091685",
   "metadata": {},
   "outputs": [
    {
     "name": "stdout",
     "output_type": "stream",
     "text": [
      "tf.Tensor(\n",
      "[[0.269 0.731]\n",
      " [0.269 0.731]\n",
      " [0.269 0.731]], shape=(3, 2), dtype=float16)\n"
     ]
    }
   ],
   "source": [
    "print(tf.nn.softmax(rank_2))"
   ]
  },
  {
   "cell_type": "code",
   "execution_count": 25,
   "id": "0a681864-ffae-4e59-8bf4-7be52fc45aad",
   "metadata": {},
   "outputs": [
    {
     "name": "stdout",
     "output_type": "stream",
     "text": [
      "tf.Tensor([1 2 3], shape=(3,), dtype=int32)\n"
     ]
    }
   ],
   "source": [
    "print(tf.convert_to_tensor([1,2,3]))pr"
   ]
  },
  {
   "cell_type": "code",
   "execution_count": 28,
   "id": "d923642c-7877-48ac-b3b1-feb84b335786",
   "metadata": {},
   "outputs": [
    {
     "name": "stdout",
     "output_type": "stream",
     "text": [
      "tf.Tensor(3, shape=(), dtype=int32)\n"
     ]
    }
   ],
   "source": [
    "\n",
    "print(tf.reduce_max([1,2,3]))"
   ]
  },
  {
   "cell_type": "code",
   "execution_count": 30,
   "id": "c480b4af-124b-42e6-a438-f94a68ce053a",
   "metadata": {},
   "outputs": [
    {
     "name": "stdout",
     "output_type": "stream",
     "text": [
      "tf.Tensor(3, shape=(), dtype=int64)\n"
     ]
    }
   ],
   "source": [
    "print(tf.reduce_max(np.array([1,2,3])))"
   ]
  },
  {
   "cell_type": "code",
   "execution_count": 32,
   "id": "b3ee13be-a9aa-49e3-8090-e753e6a00e2c",
   "metadata": {},
   "outputs": [
    {
     "name": "stdout",
     "output_type": "stream",
     "text": [
      "tf.Tensor(\n",
      "[[[[0. 0. 0. 0. 0.]\n",
      "   [0. 0. 0. 0. 0.]\n",
      "   [0. 0. 0. 0. 0.]\n",
      "   [0. 0. 0. 0. 0.]]\n",
      "\n",
      "  [[0. 0. 0. 0. 0.]\n",
      "   [0. 0. 0. 0. 0.]\n",
      "   [0. 0. 0. 0. 0.]\n",
      "   [0. 0. 0. 0. 0.]]]\n",
      "\n",
      "\n",
      " [[[0. 0. 0. 0. 0.]\n",
      "   [0. 0. 0. 0. 0.]\n",
      "   [0. 0. 0. 0. 0.]\n",
      "   [0. 0. 0. 0. 0.]]\n",
      "\n",
      "  [[0. 0. 0. 0. 0.]\n",
      "   [0. 0. 0. 0. 0.]\n",
      "   [0. 0. 0. 0. 0.]\n",
      "   [0. 0. 0. 0. 0.]]]\n",
      "\n",
      "\n",
      " [[[0. 0. 0. 0. 0.]\n",
      "   [0. 0. 0. 0. 0.]\n",
      "   [0. 0. 0. 0. 0.]\n",
      "   [0. 0. 0. 0. 0.]]\n",
      "\n",
      "  [[0. 0. 0. 0. 0.]\n",
      "   [0. 0. 0. 0. 0.]\n",
      "   [0. 0. 0. 0. 0.]\n",
      "   [0. 0. 0. 0. 0.]]]], shape=(3, 2, 4, 5), dtype=float32)\n"
     ]
    }
   ],
   "source": [
    "rank_4=tf.zeros([3,2,4,5])\n",
    "print(rank_4)"
   ]
  },
  {
   "cell_type": "code",
   "execution_count": 33,
   "id": "dda0cc04-236e-4fbc-b60b-d656fdd8db9f",
   "metadata": {},
   "outputs": [
    {
     "data": {
      "text/plain": [
       "<tf.Tensor: shape=(), dtype=int32, numpy=4>"
      ]
     },
     "execution_count": 33,
     "metadata": {},
     "output_type": "execute_result"
    }
   ],
   "source": [
    "tf.rank(rank_4)"
   ]
  },
  {
   "cell_type": "code",
   "execution_count": 35,
   "id": "856c6e8d-7cbb-4a29-b10b-914bc2539300",
   "metadata": {},
   "outputs": [
    {
     "data": {
      "text/plain": [
       "<tf.Tensor: shape=(4,), dtype=int32, numpy=array([3, 2, 4, 5], dtype=int32)>"
      ]
     },
     "execution_count": 35,
     "metadata": {},
     "output_type": "execute_result"
    }
   ],
   "source": [
    "tf.shape(rank_4)"
   ]
  },
  {
   "cell_type": "code",
   "execution_count": null,
   "id": "7b1d1fd9-c8bf-4403-a2fc-3f5e99b85834",
   "metadata": {},
   "outputs": [],
   "source": []
  }
 ],
 "metadata": {
  "kernelspec": {
   "display_name": "Python 3 (ipykernel)",
   "language": "python",
   "name": "python3"
  },
  "language_info": {
   "codemirror_mode": {
    "name": "ipython",
    "version": 3
   },
   "file_extension": ".py",
   "mimetype": "text/x-python",
   "name": "python",
   "nbconvert_exporter": "python",
   "pygments_lexer": "ipython3",
   "version": "3.10.12"
  }
 },
 "nbformat": 4,
 "nbformat_minor": 5
}
