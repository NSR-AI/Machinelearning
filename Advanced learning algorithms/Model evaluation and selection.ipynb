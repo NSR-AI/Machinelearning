{
 "cells": [
  {
   "cell_type": "code",
   "execution_count": 28,
   "id": "a666f5d1",
   "metadata": {},
   "outputs": [],
   "source": [
    "import numpy as np\n",
    "from sklearn.linear_model import LinearRegression\n",
    "from sklearn.preprocessing import StandardScaler,PolynomialFeatures\n",
    "from sklearn.model_selection import train_test_split\n",
    "from sklearn.metrics import mean_squared_error\n",
    "import tensorflow as tf\n",
    "import matplotlib.pyplot as plt\n",
    "np.set_printoptions(precision=2)\n",
    "tf.get_logger().setLevel('ERROR')\n",
    "tf.autograph.set_verbosity(0)"
   ]
  },
  {
   "cell_type": "markdown",
   "id": "e7ca3d0c",
   "metadata": {},
   "source": [
    "# Regression"
   ]
  },
  {
   "cell_type": "code",
   "execution_count": 29,
   "id": "7c5b1d96",
   "metadata": {
    "scrolled": true
   },
   "outputs": [
    {
     "data": {
      "text/plain": [
       "array([[1651.  ,  432.65],\n",
       "       [1691.82,  454.94],\n",
       "       [1732.63,  471.53],\n",
       "       [1773.45,  482.51],\n",
       "       [1814.27,  468.36],\n",
       "       [1855.08,  482.15],\n",
       "       [1895.9 ,  540.02],\n",
       "       [1936.71,  534.58],\n",
       "       [1977.53,  558.35],\n",
       "       [2018.35,  566.42],\n",
       "       [2059.16,  581.4 ],\n",
       "       [2099.98,  596.46],\n",
       "       [2140.8 ,  596.71],\n",
       "       [2181.61,  619.45],\n",
       "       [2222.43,  616.58],\n",
       "       [2263.24,  653.16],\n",
       "       [2304.06,  666.52],\n",
       "       [2344.88,  670.59],\n",
       "       [2385.69,  669.02],\n",
       "       [2426.51,  678.91],\n",
       "       [2467.33,  707.44],\n",
       "       [2508.14,  710.76],\n",
       "       [2548.96,  745.19],\n",
       "       [2589.78,  729.85],\n",
       "       [2630.59,  743.8 ],\n",
       "       [2671.41,  738.2 ],\n",
       "       [2712.22,  772.95],\n",
       "       [2753.04,  772.22],\n",
       "       [2793.86,  784.21],\n",
       "       [2834.67,  776.43],\n",
       "       [2875.49,  804.78],\n",
       "       [2916.31,  833.27],\n",
       "       [2957.12,  825.69],\n",
       "       [2997.94,  821.05],\n",
       "       [3038.76,  833.82],\n",
       "       [3079.57,  833.06],\n",
       "       [3120.39,  825.7 ],\n",
       "       [3161.2 ,  843.58],\n",
       "       [3202.02,  869.4 ],\n",
       "       [3242.84,  851.5 ],\n",
       "       [3283.65,  863.18],\n",
       "       [3324.47,  853.01],\n",
       "       [3365.29,  877.16],\n",
       "       [3406.1 ,  863.74],\n",
       "       [3446.92,  874.67],\n",
       "       [3487.73,  877.74],\n",
       "       [3528.55,  874.11],\n",
       "       [3569.37,  882.8 ],\n",
       "       [3610.18,  910.83],\n",
       "       [3651.  ,  897.42]])"
      ]
     },
     "execution_count": 29,
     "metadata": {},
     "output_type": "execute_result"
    }
   ],
   "source": [
    "df=np.loadtxt(\"C:\\\\Users\\\\nshra\\\\Machine learning\\\\Advanced learning algorithms\\\\Files\\\\data_w3_ex1.csv\",delimiter=',')\n",
    "df"
   ]
  },
  {
   "cell_type": "code",
   "execution_count": 30,
   "id": "d4c85c64",
   "metadata": {},
   "outputs": [
    {
     "name": "stdout",
     "output_type": "stream",
     "text": [
      "[1651.   1691.82 1732.63 1773.45 1814.27 1855.08 1895.9  1936.71 1977.53\n",
      " 2018.35 2059.16 2099.98 2140.8  2181.61 2222.43 2263.24 2304.06 2344.88\n",
      " 2385.69 2426.51 2467.33 2508.14 2548.96 2589.78 2630.59 2671.41 2712.22\n",
      " 2753.04 2793.86 2834.67 2875.49 2916.31 2957.12 2997.94 3038.76 3079.57\n",
      " 3120.39 3161.2  3202.02 3242.84 3283.65 3324.47 3365.29 3406.1  3446.92\n",
      " 3487.73 3528.55 3569.37 3610.18 3651.  ]\n",
      "[[1651.  ]\n",
      " [1691.82]\n",
      " [1732.63]\n",
      " [1773.45]\n",
      " [1814.27]\n",
      " [1855.08]\n",
      " [1895.9 ]\n",
      " [1936.71]\n",
      " [1977.53]\n",
      " [2018.35]\n",
      " [2059.16]\n",
      " [2099.98]\n",
      " [2140.8 ]\n",
      " [2181.61]\n",
      " [2222.43]\n",
      " [2263.24]\n",
      " [2304.06]\n",
      " [2344.88]\n",
      " [2385.69]\n",
      " [2426.51]\n",
      " [2467.33]\n",
      " [2508.14]\n",
      " [2548.96]\n",
      " [2589.78]\n",
      " [2630.59]\n",
      " [2671.41]\n",
      " [2712.22]\n",
      " [2753.04]\n",
      " [2793.86]\n",
      " [2834.67]\n",
      " [2875.49]\n",
      " [2916.31]\n",
      " [2957.12]\n",
      " [2997.94]\n",
      " [3038.76]\n",
      " [3079.57]\n",
      " [3120.39]\n",
      " [3161.2 ]\n",
      " [3202.02]\n",
      " [3242.84]\n",
      " [3283.65]\n",
      " [3324.47]\n",
      " [3365.29]\n",
      " [3406.1 ]\n",
      " [3446.92]\n",
      " [3487.73]\n",
      " [3528.55]\n",
      " [3569.37]\n",
      " [3610.18]\n",
      " [3651.  ]]\n",
      "(50, 1)\n"
     ]
    }
   ],
   "source": [
    "x=df[:,0]\n",
    "print(x)\n",
    "x=np.expand_dims(x,axis=1)\n",
    "print(x)\n",
    "print(x.shape)\n"
   ]
  },
  {
   "cell_type": "code",
   "execution_count": 31,
   "id": "4b880bd4",
   "metadata": {},
   "outputs": [
    {
     "name": "stdout",
     "output_type": "stream",
     "text": [
      "[432.65 454.94 471.53 482.51 468.36 482.15 540.02 534.58 558.35 566.42\n",
      " 581.4  596.46 596.71 619.45 616.58 653.16 666.52 670.59 669.02 678.91\n",
      " 707.44 710.76 745.19 729.85 743.8  738.2  772.95 772.22 784.21 776.43\n",
      " 804.78 833.27 825.69 821.05 833.82 833.06 825.7  843.58 869.4  851.5\n",
      " 863.18 853.01 877.16 863.74 874.67 877.74 874.11 882.8  910.83 897.42]\n",
      "[[432.65]\n",
      " [454.94]\n",
      " [471.53]\n",
      " [482.51]\n",
      " [468.36]\n",
      " [482.15]\n",
      " [540.02]\n",
      " [534.58]\n",
      " [558.35]\n",
      " [566.42]\n",
      " [581.4 ]\n",
      " [596.46]\n",
      " [596.71]\n",
      " [619.45]\n",
      " [616.58]\n",
      " [653.16]\n",
      " [666.52]\n",
      " [670.59]\n",
      " [669.02]\n",
      " [678.91]\n",
      " [707.44]\n",
      " [710.76]\n",
      " [745.19]\n",
      " [729.85]\n",
      " [743.8 ]\n",
      " [738.2 ]\n",
      " [772.95]\n",
      " [772.22]\n",
      " [784.21]\n",
      " [776.43]\n",
      " [804.78]\n",
      " [833.27]\n",
      " [825.69]\n",
      " [821.05]\n",
      " [833.82]\n",
      " [833.06]\n",
      " [825.7 ]\n",
      " [843.58]\n",
      " [869.4 ]\n",
      " [851.5 ]\n",
      " [863.18]\n",
      " [853.01]\n",
      " [877.16]\n",
      " [863.74]\n",
      " [874.67]\n",
      " [877.74]\n",
      " [874.11]\n",
      " [882.8 ]\n",
      " [910.83]\n",
      " [897.42]]\n",
      "(50, 1)\n"
     ]
    }
   ],
   "source": [
    "y=df[:,1]\n",
    "print(y)\n",
    "y=np.expand_dims(y,axis=1)\n",
    "print(y)\n",
    "print(y.shape)"
   ]
  },
  {
   "cell_type": "code",
   "execution_count": 38,
   "id": "9826066c",
   "metadata": {},
   "outputs": [
    {
     "data": {
      "image/png": "[encoded data removed]",
      "text/plain": [
       "<Figure size 640x480 with 1 Axes>"
      ]
     },
     "metadata": {},
     "output_type": "display_data"
    }
   ],
   "source": [
    "%matplotlib inLine\n",
    "plt.scatter(x,y,marker='x',c='r')\n",
    "plt.title(\"input vs target\")\n",
    "plt.show()"
   ]
  },
  {
   "cell_type": "markdown",
   "id": "cf2b8d1a",
   "metadata": {},
   "source": [
    "# Split the dataset into training, cross validation and testsets"
   ]
  },
  {
   "cell_type": "code",
   "execution_count": 41,
   "id": "f52205c2",
   "metadata": {},
   "outputs": [
    {
     "name": "stdout",
     "output_type": "stream",
     "text": [
      "(30, 1) (30, 1) (10, 1) (10, 1) (10, 1) (10, 1)\n"
     ]
    }
   ],
   "source": [
    "x_train,x_,y_train,y_=train_test_split(x,y,test_size=0.40,random_state=1)\n",
    "x_cv,x_test,y_cv,y_test=train_test_split(x_,y_,test_size=0.50,random_state=1)\n",
    "del x_,y_\n",
    "print(x_train.shape,y_train.shape,x_cv.shape,y_cv.shape,x_test.shape,y_test.shape)"
   ]
  },
  {
   "cell_type": "code",
   "execution_count": 49,
   "id": "07819858",
   "metadata": {},
   "outputs": [
    {
     "data": {
      "text/plain": [
       "<matplotlib.collections.PathCollection at 0x2933dd86940>"
      ]
     },
     "execution_count": 49,
     "metadata": {},
     "output_type": "execute_result"
    },
    {
     "data": {
      "image/png": "[encoded data removed]",
      "text/plain": [
       "<Figure size 640x480 with 1 Axes>"
      ]
     },
     "metadata": {},
     "output_type": "display_data"
    }
   ],
   "source": [
    "plt.scatter(x_train,y_train,c='r')\n",
    "plt.scatter(x_cv,y_cv,c='b')\n",
    "plt.scatter(x_test,y_test,c='g')"
   ]
  },
  {
   "cell_type": "markdown",
   "id": "ae2924bb",
   "metadata": {},
   "source": [
    "## Linear  model\n",
    " Feature scaling to standardize the features on given range"
   ]
  },
  {
   "cell_type": "code",
   "execution_count": 69,
   "id": "0ea6d904",
   "metadata": {},
   "outputs": [
    {
     "name": "stdout",
     "output_type": "stream",
     "text": [
      "2504.061224489796\n",
      "574.8536806268388\n"
     ]
    },
    {
     "data": {
      "text/plain": [
       "Text(0.5, 1.0, 'scaled input vs. target')"
      ]
     },
     "execution_count": 69,
     "metadata": {},
     "output_type": "execute_result"
    },
    {
     "data": {
      "image/png": "[encoded data removed]",
      "text/plain": [
       "<Figure size 640x480 with 1 Axes>"
      ]
     },
     "metadata": {},
     "output_type": "display_data"
    }
   ],
   "source": [
    "scaler_linear = StandardScaler()\n",
    "\n",
    "# Compute the mean and standard deviation of the training set then transform it\n",
    "X_train_scaled = scaler_linear.fit_transform(x_train)\n",
    "\n",
    "print(scaler_linear.mean_.squeeze())\n",
    "print( scaler_linear.scale_.squeeze())\n",
    "\n",
    "# Plot the results\n",
    "plt.scatter(x=X_train_scaled, y=y_train,marker='x',c='r')\n",
    "plt.title(\"scaled input vs. target\")"
   ]
  },
  {
   "cell_type": "markdown",
   "id": "f804e431",
   "metadata": {},
   "source": [
    "Train the model"
   ]
  },
  {
   "cell_type": "code",
   "execution_count": 70,
   "id": "985b4735",
   "metadata": {},
   "outputs": [
    {
     "data": {
      "text/plain": [
       "LinearRegression()"
      ]
     },
     "execution_count": 70,
     "metadata": {},
     "output_type": "execute_result"
    }
   ],
   "source": [
    "linear_model=LinearRegression()\n",
    "linear_model.fit(X_train_scaled,y_train)"
   ]
  },
  {
   "cell_type": "markdown",
   "id": "967c93b6",
   "metadata": {},
   "source": [
    "Evaluate the model\n",
    "we caluclate loss fucntion i.e mean square root error"
   ]
  },
  {
   "cell_type": "code",
   "execution_count": 73,
   "id": "57364252",
   "metadata": {},
   "outputs": [
    {
     "name": "stdout",
     "output_type": "stream",
     "text": [
      "using sklearn:406.19374192533127\n",
      "training MSE (for-loop implementation): 406.19374192533127\n"
     ]
    }
   ],
   "source": [
    "yhat = linear_model.predict(X_train_scaled)\n",
    "print(f\"using sklearn:{mean_squared_error(y_train,yhat)/2}\")\n",
    "total_squared_error = 0\n",
    "\n",
    "for i in range(len(yhat)):\n",
    "    squared_error_i  = (yhat[i] - y_train[i])**2\n",
    "    total_squared_error += squared_error_i                                              \n",
    "\n",
    "mse = total_squared_error / (2*len(yhat))\n",
    "\n",
    "print(f\"training MSE (for-loop implementation): {mse.squeeze()}\")\n"
   ]
  },
  {
   "cell_type": "markdown",
   "id": "b7ca9218",
   "metadata": {},
   "source": [
    "calculating mse to crossvlidation set too"
   ]
  },
  {
   "cell_type": "code",
   "execution_count": 74,
   "id": "5f83edce",
   "metadata": {},
   "outputs": [
    {
     "name": "stdout",
     "output_type": "stream",
     "text": [
      "Mean used to scale the CV set: 2504.06\n",
      "Standard deviation used to scale the CV set: 574.85\n",
      "Cross validation MSE: 551.7789026952216\n"
     ]
    }
   ],
   "source": [
    "X_cv_scaled = scaler_linear.transform(x_cv)\n",
    "\n",
    "print(f\"Mean used to scale the CV set: {scaler_linear.mean_.squeeze():.2f}\")\n",
    "print(f\"Standard deviation used to scale the CV set: {scaler_linear.scale_.squeeze():.2f}\")\n",
    "\n",
    "# Feed the scaled cross validation set\n",
    "yhat = linear_model.predict(X_cv_scaled)\n",
    "\n",
    "# Use scikit-learn's utility function and divide by 2\n",
    "print(f\"Cross validation MSE: {mean_squared_error(y_cv, yhat) / 2}\")"
   ]
  },
  {
   "cell_type": "markdown",
   "id": "a812f748",
   "metadata": {},
   "source": [
    "\n",
    "Adding Polynomial Features"
   ]
  },
  {
   "cell_type": "code",
   "execution_count": 76,
   "id": "93de7474",
   "metadata": {},
   "outputs": [
    {
     "name": "stdout",
     "output_type": "stream",
     "text": [
      "[[3324.47]\n",
      " [2344.88]\n",
      " [3487.73]\n",
      " [2630.59]\n",
      " [2589.78]\n",
      " [1814.27]\n",
      " [2997.94]\n",
      " [2222.43]\n",
      " [2875.49]\n",
      " [2059.16]\n",
      " [2793.86]\n",
      " [3446.92]\n",
      " [3038.76]\n",
      " [2385.69]\n",
      " [2467.33]\n",
      " [2671.41]\n",
      " [1895.9 ]\n",
      " [1936.71]\n",
      " [3569.37]\n",
      " [1691.82]\n",
      " [2304.06]\n",
      " [1651.  ]\n",
      " [2263.24]\n",
      " [1855.08]\n",
      " [2099.98]\n",
      " [2018.35]\n",
      " [1977.53]\n",
      " [2140.8 ]\n",
      " [3406.1 ]\n",
      " [3161.2 ]]\n",
      "[[3.32e+03 1.11e+07]\n",
      " [2.34e+03 5.50e+06]\n",
      " [3.49e+03 1.22e+07]\n",
      " [2.63e+03 6.92e+06]\n",
      " [2.59e+03 6.71e+06]]\n"
     ]
    }
   ],
   "source": [
    "print(x_train)\n",
    "poly = PolynomialFeatures(degree=2, include_bias=False)\n",
    "\n",
    "# Compute the number of features and transform the training set\n",
    "X_train_mapped = poly.fit_transform(x_train)\n",
    "\n",
    "# Preview the first 5 elements of the new training set. Left column is `x` and right column is `x^2`\n",
    "# Note: The `e+<number>` in the output denotes how many places the decimal point should \n",
    "# be moved. For example, `3.24e+03` is equal to `3240`\n",
    "print(X_train_mapped[:5])"
   ]
  },
  {
   "cell_type": "markdown",
   "id": "fe0e3c6e",
   "metadata": {},
   "source": [
    "claculating mean and standard devation for loss functon or mse"
   ]
  },
  {
   "cell_type": "code",
   "execution_count": 79,
   "id": "8e281bd4",
   "metadata": {},
   "outputs": [
    {
     "name": "stdout",
     "output_type": "stream",
     "text": [
      "[[ 1.43  1.47]\n",
      " [-0.28 -0.36]\n",
      " [ 1.71  1.84]\n",
      " [ 0.22  0.11]\n",
      " [ 0.15  0.04]]\n"
     ]
    }
   ],
   "source": [
    "# Instantiate the class\n",
    "scaler_poly = StandardScaler()\n",
    "\n",
    "# Compute the mean and standard deviation of the training set then transform it\n",
    "X_train_mapped_scaled = scaler_poly.fit_transform(X_train_mapped)\n",
    "\n",
    "# Preview the first 5 elements of the scaled training set.\n",
    "print(X_train_mapped_scaled[:5])"
   ]
  },
  {
   "cell_type": "code",
   "execution_count": 81,
   "id": "16e969ca",
   "metadata": {},
   "outputs": [
    {
     "name": "stdout",
     "output_type": "stream",
     "text": [
      "Training MSE: 49.111609334025154\n"
     ]
    }
   ],
   "source": [
    "model=LinearRegression()\n",
    "model.fit(X_train_mapped_scaled,y_train)\n",
    "yhat = model.predict(X_train_mapped_scaled)\n",
    "print(f\"Training MSE: {mean_squared_error(y_train, yhat) / 2}\")"
   ]
  },
  {
   "cell_type": "code",
   "execution_count": 84,
   "id": "44d74824",
   "metadata": {},
   "outputs": [
    {
     "name": "stdout",
     "output_type": "stream",
     "text": [
      "Cross validation MSE: 87.69841211111911\n"
     ]
    }
   ],
   "source": [
    "X_cv_mapped = poly.transform(x_cv)\n",
    "\n",
    "# Scale the cross validation set using the mean and standard deviation of the training set\n",
    "X_cv_mapped_scaled = scaler_poly.transform(X_cv_mapped)\n",
    "# Compute the cross validation MSE\n",
    "yhat = model.predict(X_cv_mapped_scaled)\n",
    "print(f\"Cross validation MSE: {mean_squared_error(y_cv, yhat) / 2}\")"
   ]
  },
  {
   "cell_type": "markdown",
   "id": "6a7f285b",
   "metadata": {},
   "source": [
    "polynomial features"
   ]
  },
  {
   "cell_type": "code",
   "execution_count": 87,
   "id": "6d10c424",
   "metadata": {},
   "outputs": [
    {
     "name": "stdout",
     "output_type": "stream",
     "text": [
      "training mse 49.0\n",
      "Cross validation MSE: 87.69841211111911\n"
     ]
    }
   ],
   "source": [
    "model=LinearRegression()\n",
    "model.fit(X_train_mapped_scaled,y_train)\n",
    "#mse\n",
    "yhat=model.predict(X_train_mapped_scaled)\n",
    "print(\"training mse\",mean_squared_error(y_train,yhat)//2)\n",
    "X_cv_mapped = poly.transform(x_cv)\n",
    "\n",
    "# Scale the cross validation set using the mean and standard deviation of the training set\n",
    "X_cv_mapped_scaled = scaler_poly.transform(X_cv_mapped)\n",
    "\n",
    "# Compute the cross validation MSE\n",
    "yhat = model.predict(X_cv_mapped_scaled)\n",
    "print(f\"Cross validation MSE: {mean_squared_error(y_cv, yhat) / 2}\")"
   ]
  },
  {
   "cell_type": "code",
   "execution_count": 97,
   "id": "59865538",
   "metadata": {
    "scrolled": true
   },
   "outputs": [
    {
     "data": {
      "text/plain": [
       "Text(0.5, 1.0, 'degree of polynomial vs. train and CV MSEs')"
      ]
     },
     "execution_count": 97,
     "metadata": {},
     "output_type": "execute_result"
    },
    {
     "data": {
      "image/png": "[encoded data removed]",
      "text/plain": [
       "<Figure size 640x480 with 1 Axes>"
      ]
     },
     "metadata": {},
     "output_type": "display_data"
    }
   ],
   "source": [
    "# Initialize lists containing the lists, models, and scalers\n",
    "train_mses = []\n",
    "cv_mses = []\n",
    "models = []\n",
    "scalers = []\n",
    "\n",
    "# Loop over 10 times. Each adding one more degree of polynomial higher than the last.\n",
    "for degree in range(1,11):\n",
    "    \n",
    "    # Add polynomial features to the training set\n",
    "    poly = PolynomialFeatures(degree, include_bias=False)\n",
    "    X_train_mapped = poly.fit_transform(x_train)\n",
    "    \n",
    "    # Scale the training set\n",
    "    scaler_poly = StandardScaler()\n",
    "    X_train_mapped_scaled = scaler_poly.fit_transform(X_train_mapped)\n",
    "    scalers.append(scaler_poly)\n",
    "    \n",
    "    # Create and train the model\n",
    "    model = LinearRegression()\n",
    "    model.fit(X_train_mapped_scaled, y_train )\n",
    "    models.append(model)\n",
    "    \n",
    "    # Compute the training MSE\n",
    "    yhat = model.predict(X_train_mapped_scaled)\n",
    "    train_mse = mean_squared_error(y_train, yhat) / 2\n",
    "    train_mses.append(train_mse)\n",
    "    \n",
    "    # Add polynomial features and scale the cross validation set\n",
    "    poly = PolynomialFeatures(degree, include_bias=False)\n",
    "    X_cv_mapped = poly.fit_transform(x_cv)\n",
    "    X_cv_mapped_scaled = scaler_poly.transform(X_cv_mapped)\n",
    "    \n",
    "    # Compute the cross validation MSE\n",
    "    yhat = model.predict(X_cv_mapped_scaled)\n",
    "    cv_mse = mean_squared_error(y_cv, yhat) / 2\n",
    "    cv_mses.append(cv_mse)\n",
    "    \n",
    "# Plot the results\n",
    "degrees=range(1,11)\n",
    "plt.plot(degrees, train_mses,marker='x',c='r')\n",
    "plt.plot(degrees, cv_mses,marker='.',c='b')\n",
    "plt.title(\"degree of polynomial vs. train and CV MSEs\")"
   ]
  },
  {
   "cell_type": "markdown",
   "id": "a935f519",
   "metadata": {},
   "source": [
    "#  choosing the best model"
   ]
  },
  {
   "cell_type": "code",
   "execution_count": 98,
   "id": "aad62fc0",
   "metadata": {},
   "outputs": [
    {
     "name": "stdout",
     "output_type": "stream",
     "text": [
      "Lowest CV MSE is found in the model with degree=4\n"
     ]
    }
   ],
   "source": [
    "degree = np.argmin(cv_mses) + 1\n",
    "print(f\"Lowest CV MSE is found in the model with degree={degree}\")"
   ]
  },
  {
   "cell_type": "code",
   "execution_count": 99,
   "id": "d8846de0",
   "metadata": {},
   "outputs": [
    {
     "name": "stdout",
     "output_type": "stream",
     "text": [
      "Training MSE: 47.15\n",
      "Cross Validation MSE: 79.43\n",
      "Test MSE: 104.63\n"
     ]
    }
   ],
   "source": [
    "# Add polynomial features to the test set\n",
    "poly = PolynomialFeatures(degree, include_bias=False)\n",
    "X_test_mapped = poly.fit_transform(x_test)\n",
    "\n",
    "# Scale the test set\n",
    "X_test_mapped_scaled = scalers[degree-1].transform(X_test_mapped)\n",
    "\n",
    "# Compute the test MSE\n",
    "yhat = models[degree-1].predict(X_test_mapped_scaled)\n",
    "test_mse = mean_squared_error(y_test, yhat) / 2\n",
    "\n",
    "print(f\"Training MSE: {train_mses[degree-1]:.2f}\")\n",
    "print(f\"Cross Validation MSE: {cv_mses[degree-1]:.2f}\")\n",
    "print(f\"Test MSE: {test_mse:.2f}\")"
   ]
  },
  {
   "cell_type": "code",
   "execution_count": 100,
   "id": "88c7bd3d",
   "metadata": {},
   "outputs": [],
   "source": [
    "# Add polynomial features\n",
    "degree = 1\n",
    "poly = PolynomialFeatures(degree, include_bias=False)\n",
    "X_train_mapped = poly.fit_transform(x_train)\n",
    "X_cv_mapped = poly.transform(x_cv)\n",
    "X_test_mapped = poly.transform(x_test)"
   ]
  },
  {
   "cell_type": "code",
   "execution_count": 101,
   "id": "4f074d9c",
   "metadata": {},
   "outputs": [],
   "source": [
    "# Scale the features using the z-score\n",
    "scaler = StandardScaler()\n",
    "X_train_mapped_scaled = scaler.fit_transform(X_train_mapped)\n",
    "X_cv_mapped_scaled = scaler.transform(X_cv_mapped)\n",
    "X_test_mapped_scaled = scaler.transform(X_test_mapped)"
   ]
  },
  {
   "cell_type": "markdown",
   "id": "766e0426",
   "metadata": {},
   "source": [
    "here custom modeles are checked"
   ]
  },
  {
   "cell_type": "code",
   "execution_count": 102,
   "id": "c545413f",
   "metadata": {},
   "outputs": [
    {
     "ename": "NameError",
     "evalue": "name 'utils' is not defined",
     "output_type": "error",
     "traceback": [
      "\u001b[1;31m---------------------------------------------------------------------------\u001b[0m",
      "\u001b[1;31mNameError\u001b[0m                                 Traceback (most recent call last)",
      "\u001b[1;32m~\\AppData\\Local\\Temp\\ipykernel_10432\\1448647950.py\u001b[0m in \u001b[0;36m<module>\u001b[1;34m\u001b[0m\n\u001b[0;32m      4\u001b[0m \u001b[1;33m\u001b[0m\u001b[0m\n\u001b[0;32m      5\u001b[0m \u001b[1;31m# Build the models\u001b[0m\u001b[1;33m\u001b[0m\u001b[1;33m\u001b[0m\u001b[0m\n\u001b[1;32m----> 6\u001b[1;33m \u001b[0mnn_models\u001b[0m \u001b[1;33m=\u001b[0m \u001b[0mutils\u001b[0m\u001b[1;33m.\u001b[0m\u001b[0mbuild_models\u001b[0m\u001b[1;33m(\u001b[0m\u001b[1;33m)\u001b[0m\u001b[1;33m\u001b[0m\u001b[1;33m\u001b[0m\u001b[0m\n\u001b[0m\u001b[0;32m      7\u001b[0m \u001b[1;33m\u001b[0m\u001b[0m\n\u001b[0;32m      8\u001b[0m \u001b[1;31m# Loop over the the models\u001b[0m\u001b[1;33m\u001b[0m\u001b[1;33m\u001b[0m\u001b[0m\n",
      "\u001b[1;31mNameError\u001b[0m: name 'utils' is not defined"
     ]
    }
   ],
   "source": [
    "# Initialize lists that will contain the errors for each model\n",
    "nn_train_mses = []\n",
    "nn_cv_mses = []\n",
    "\n",
    "\n",
    "\n",
    "# Loop over the the models\n",
    "for model in nn_models:\n",
    "    \n",
    "    # Setup the loss and optimizer\n",
    "    model.compile(\n",
    "    loss='mse',\n",
    "    optimizer=tf.keras.optimizers.Adam(learning_rate=0.1),\n",
    "    )\n",
    "\n",
    "    print(f\"Training {model.name}...\")\n",
    "    \n",
    "    # Train the model\n",
    "    model.fit(\n",
    "        X_train_mapped_scaled, y_train,\n",
    "        epochs=300,\n",
    "        verbose=0\n",
    "    )\n",
    "    \n",
    "    print(\"Done!\\n\")\n",
    "\n",
    "    \n",
    "    # Record the training MSEs\n",
    "    yhat = model.predict(X_train_mapped_scaled)\n",
    "    train_mse = mean_squared_error(y_train, yhat) / 2\n",
    "    nn_train_mses.append(train_mse)\n",
    "    \n",
    "    # Record the cross validation MSEs \n",
    "    yhat = model.predict(X_cv_mapped_scaled)\n",
    "    cv_mse = mean_squared_error(y_cv, yhat) / 2\n",
    "    nn_cv_mses.append(cv_mse)\n",
    "\n",
    "    \n",
    "# print results\n",
    "print(\"RESULTS:\")\n",
    "for model_num in range(len(nn_train_mses)):\n",
    "    print(\n",
    "        f\"Model {model_num+1}: Training MSE: {nn_train_mses[model_num]:.2f}, \" +\n",
    "        f\"CV MSE: {nn_cv_mses[model_num]:.2f}\"\n",
    "        )"
   ]
  },
  {
   "cell_type": "markdown",
   "id": "11af3696",
   "metadata": {},
   "source": [
    "# Classification\n"
   ]
  },
  {
   "cell_type": "code",
   "execution_count": 103,
   "id": "582eece8",
   "metadata": {},
   "outputs": [
    {
     "ename": "OSError",
     "evalue": "./data/data_w3_ex2.csv not found.",
     "output_type": "error",
     "traceback": [
      "\u001b[1;31m---------------------------------------------------------------------------\u001b[0m",
      "\u001b[1;31mOSError\u001b[0m                                   Traceback (most recent call last)",
      "\u001b[1;32m~\\AppData\\Local\\Temp\\ipykernel_10432\\1314800130.py\u001b[0m in \u001b[0;36m<module>\u001b[1;34m\u001b[0m\n\u001b[1;32m----> 1\u001b[1;33m \u001b[0mdata\u001b[0m \u001b[1;33m=\u001b[0m \u001b[0mnp\u001b[0m\u001b[1;33m.\u001b[0m\u001b[0mloadtxt\u001b[0m\u001b[1;33m(\u001b[0m\u001b[1;34m'./data/data_w3_ex2.csv'\u001b[0m\u001b[1;33m,\u001b[0m \u001b[0mdelimiter\u001b[0m\u001b[1;33m=\u001b[0m\u001b[1;34m','\u001b[0m\u001b[1;33m)\u001b[0m\u001b[1;33m\u001b[0m\u001b[1;33m\u001b[0m\u001b[0m\n\u001b[0m\u001b[0;32m      2\u001b[0m \u001b[1;33m\u001b[0m\u001b[0m\n\u001b[0;32m      3\u001b[0m \u001b[1;31m# Split the inputs and outputs into separate arrays\u001b[0m\u001b[1;33m\u001b[0m\u001b[1;33m\u001b[0m\u001b[0m\n\u001b[0;32m      4\u001b[0m \u001b[0mx_bc\u001b[0m \u001b[1;33m=\u001b[0m \u001b[0mdata\u001b[0m\u001b[1;33m[\u001b[0m\u001b[1;33m:\u001b[0m\u001b[1;33m,\u001b[0m\u001b[1;33m:\u001b[0m\u001b[1;33m-\u001b[0m\u001b[1;36m1\u001b[0m\u001b[1;33m]\u001b[0m\u001b[1;33m\u001b[0m\u001b[1;33m\u001b[0m\u001b[0m\n\u001b[0;32m      5\u001b[0m \u001b[0my_bc\u001b[0m \u001b[1;33m=\u001b[0m \u001b[0mdata\u001b[0m\u001b[1;33m[\u001b[0m\u001b[1;33m:\u001b[0m\u001b[1;33m,\u001b[0m\u001b[1;33m-\u001b[0m\u001b[1;36m1\u001b[0m\u001b[1;33m]\u001b[0m\u001b[1;33m\u001b[0m\u001b[1;33m\u001b[0m\u001b[0m\n",
      "\u001b[1;32m~\\anaconda3\\lib\\site-packages\\numpy\\lib\\npyio.py\u001b[0m in \u001b[0;36mloadtxt\u001b[1;34m(fname, dtype, comments, delimiter, converters, skiprows, usecols, unpack, ndmin, encoding, max_rows, like)\u001b[0m\n\u001b[0;32m   1065\u001b[0m             \u001b[0mfname\u001b[0m \u001b[1;33m=\u001b[0m \u001b[0mos_fspath\u001b[0m\u001b[1;33m(\u001b[0m\u001b[0mfname\u001b[0m\u001b[1;33m)\u001b[0m\u001b[1;33m\u001b[0m\u001b[1;33m\u001b[0m\u001b[0m\n\u001b[0;32m   1066\u001b[0m         \u001b[1;32mif\u001b[0m \u001b[0m_is_string_like\u001b[0m\u001b[1;33m(\u001b[0m\u001b[0mfname\u001b[0m\u001b[1;33m)\u001b[0m\u001b[1;33m:\u001b[0m\u001b[1;33m\u001b[0m\u001b[1;33m\u001b[0m\u001b[0m\n\u001b[1;32m-> 1067\u001b[1;33m             \u001b[0mfh\u001b[0m \u001b[1;33m=\u001b[0m \u001b[0mnp\u001b[0m\u001b[1;33m.\u001b[0m\u001b[0mlib\u001b[0m\u001b[1;33m.\u001b[0m\u001b[0m_datasource\u001b[0m\u001b[1;33m.\u001b[0m\u001b[0mopen\u001b[0m\u001b[1;33m(\u001b[0m\u001b[0mfname\u001b[0m\u001b[1;33m,\u001b[0m \u001b[1;34m'rt'\u001b[0m\u001b[1;33m,\u001b[0m \u001b[0mencoding\u001b[0m\u001b[1;33m=\u001b[0m\u001b[0mencoding\u001b[0m\u001b[1;33m)\u001b[0m\u001b[1;33m\u001b[0m\u001b[1;33m\u001b[0m\u001b[0m\n\u001b[0m\u001b[0;32m   1068\u001b[0m             \u001b[0mfencoding\u001b[0m \u001b[1;33m=\u001b[0m \u001b[0mgetattr\u001b[0m\u001b[1;33m(\u001b[0m\u001b[0mfh\u001b[0m\u001b[1;33m,\u001b[0m \u001b[1;34m'encoding'\u001b[0m\u001b[1;33m,\u001b[0m \u001b[1;34m'latin1'\u001b[0m\u001b[1;33m)\u001b[0m\u001b[1;33m\u001b[0m\u001b[1;33m\u001b[0m\u001b[0m\n\u001b[0;32m   1069\u001b[0m             \u001b[0mfh\u001b[0m \u001b[1;33m=\u001b[0m \u001b[0miter\u001b[0m\u001b[1;33m(\u001b[0m\u001b[0mfh\u001b[0m\u001b[1;33m)\u001b[0m\u001b[1;33m\u001b[0m\u001b[1;33m\u001b[0m\u001b[0m\n",
      "\u001b[1;32m~\\anaconda3\\lib\\site-packages\\numpy\\lib\\_datasource.py\u001b[0m in \u001b[0;36mopen\u001b[1;34m(path, mode, destpath, encoding, newline)\u001b[0m\n\u001b[0;32m    191\u001b[0m \u001b[1;33m\u001b[0m\u001b[0m\n\u001b[0;32m    192\u001b[0m     \u001b[0mds\u001b[0m \u001b[1;33m=\u001b[0m \u001b[0mDataSource\u001b[0m\u001b[1;33m(\u001b[0m\u001b[0mdestpath\u001b[0m\u001b[1;33m)\u001b[0m\u001b[1;33m\u001b[0m\u001b[1;33m\u001b[0m\u001b[0m\n\u001b[1;32m--> 193\u001b[1;33m     \u001b[1;32mreturn\u001b[0m \u001b[0mds\u001b[0m\u001b[1;33m.\u001b[0m\u001b[0mopen\u001b[0m\u001b[1;33m(\u001b[0m\u001b[0mpath\u001b[0m\u001b[1;33m,\u001b[0m \u001b[0mmode\u001b[0m\u001b[1;33m,\u001b[0m \u001b[0mencoding\u001b[0m\u001b[1;33m=\u001b[0m\u001b[0mencoding\u001b[0m\u001b[1;33m,\u001b[0m \u001b[0mnewline\u001b[0m\u001b[1;33m=\u001b[0m\u001b[0mnewline\u001b[0m\u001b[1;33m)\u001b[0m\u001b[1;33m\u001b[0m\u001b[1;33m\u001b[0m\u001b[0m\n\u001b[0m\u001b[0;32m    194\u001b[0m \u001b[1;33m\u001b[0m\u001b[0m\n\u001b[0;32m    195\u001b[0m \u001b[1;33m\u001b[0m\u001b[0m\n",
      "\u001b[1;32m~\\anaconda3\\lib\\site-packages\\numpy\\lib\\_datasource.py\u001b[0m in \u001b[0;36mopen\u001b[1;34m(self, path, mode, encoding, newline)\u001b[0m\n\u001b[0;32m    531\u001b[0m                                       encoding=encoding, newline=newline)\n\u001b[0;32m    532\u001b[0m         \u001b[1;32melse\u001b[0m\u001b[1;33m:\u001b[0m\u001b[1;33m\u001b[0m\u001b[1;33m\u001b[0m\u001b[0m\n\u001b[1;32m--> 533\u001b[1;33m             \u001b[1;32mraise\u001b[0m \u001b[0mIOError\u001b[0m\u001b[1;33m(\u001b[0m\u001b[1;34m\"%s not found.\"\u001b[0m \u001b[1;33m%\u001b[0m \u001b[0mpath\u001b[0m\u001b[1;33m)\u001b[0m\u001b[1;33m\u001b[0m\u001b[1;33m\u001b[0m\u001b[0m\n\u001b[0m\u001b[0;32m    534\u001b[0m \u001b[1;33m\u001b[0m\u001b[0m\n\u001b[0;32m    535\u001b[0m \u001b[1;33m\u001b[0m\u001b[0m\n",
      "\u001b[1;31mOSError\u001b[0m: ./data/data_w3_ex2.csv not found."
     ]
    }
   ],
   "source": []
  },
  {
   "cell_type": "code",
   "execution_count": null,
   "id": "7a0ee3ce",
   "metadata": {},
   "outputs": [],
   "source": []
  }
 ],
 "metadata": {
  "kernelspec": {
   "display_name": "Python 3 (ipykernel)",
   "language": "python",
   "name": "python3"
  },
  "language_info": {
   "codemirror_mode": {
    "name": "ipython",
    "version": 3
   },
   "file_extension": ".py",
   "mimetype": "text/x-python",
   "name": "python",
   "nbconvert_exporter": "python",
   "pygments_lexer": "ipython3",
   "version": "3.9.13"
  }
 },
 "nbformat": 4,
 "nbformat_minor": 5
}
