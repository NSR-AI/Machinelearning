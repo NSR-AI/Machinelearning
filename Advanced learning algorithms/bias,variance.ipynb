{
 "cells": [
  {
   "cell_type": "code",
   "execution_count": 54,
   "id": "6560eaac",
   "metadata": {},
   "outputs": [
    {
     "ename": "OSError",
     "evalue": "'./deeplearning.mplstyle' not found in the style library and input is not a valid URL or path; see `style.available` for list of available styles",
     "output_type": "error",
     "traceback": [
      "\u001b[1;31m---------------------------------------------------------------------------\u001b[0m",
      "\u001b[1;31mFileNotFoundError\u001b[0m                         Traceback (most recent call last)",
      "\u001b[1;32m~\\anaconda3\\lib\\site-packages\\matplotlib\\style\\core.py\u001b[0m in \u001b[0;36muse\u001b[1;34m(style)\u001b[0m\n\u001b[0;32m    126\u001b[0m             \u001b[1;32mtry\u001b[0m\u001b[1;33m:\u001b[0m\u001b[1;33m\u001b[0m\u001b[1;33m\u001b[0m\u001b[0m\n\u001b[1;32m--> 127\u001b[1;33m                 \u001b[0mrc\u001b[0m \u001b[1;33m=\u001b[0m \u001b[0mrc_params_from_file\u001b[0m\u001b[1;33m(\u001b[0m\u001b[0mstyle\u001b[0m\u001b[1;33m,\u001b[0m \u001b[0muse_default_template\u001b[0m\u001b[1;33m=\u001b[0m\u001b[1;32mFalse\u001b[0m\u001b[1;33m)\u001b[0m\u001b[1;33m\u001b[0m\u001b[1;33m\u001b[0m\u001b[0m\n\u001b[0m\u001b[0;32m    128\u001b[0m                 \u001b[0m_apply_style\u001b[0m\u001b[1;33m(\u001b[0m\u001b[0mrc\u001b[0m\u001b[1;33m)\u001b[0m\u001b[1;33m\u001b[0m\u001b[1;33m\u001b[0m\u001b[0m\n",
      "\u001b[1;32m~\\anaconda3\\lib\\site-packages\\matplotlib\\__init__.py\u001b[0m in \u001b[0;36mrc_params_from_file\u001b[1;34m(fname, fail_on_error, use_default_template)\u001b[0m\n\u001b[0;32m    851\u001b[0m     \"\"\"\n\u001b[1;32m--> 852\u001b[1;33m     \u001b[0mconfig_from_file\u001b[0m \u001b[1;33m=\u001b[0m \u001b[0m_rc_params_in_file\u001b[0m\u001b[1;33m(\u001b[0m\u001b[0mfname\u001b[0m\u001b[1;33m,\u001b[0m \u001b[0mfail_on_error\u001b[0m\u001b[1;33m=\u001b[0m\u001b[0mfail_on_error\u001b[0m\u001b[1;33m)\u001b[0m\u001b[1;33m\u001b[0m\u001b[1;33m\u001b[0m\u001b[0m\n\u001b[0m\u001b[0;32m    853\u001b[0m \u001b[1;33m\u001b[0m\u001b[0m\n",
      "\u001b[1;32m~\\anaconda3\\lib\\site-packages\\matplotlib\\__init__.py\u001b[0m in \u001b[0;36m_rc_params_in_file\u001b[1;34m(fname, transform, fail_on_error)\u001b[0m\n\u001b[0;32m    777\u001b[0m     \u001b[0mrc_temp\u001b[0m \u001b[1;33m=\u001b[0m \u001b[1;33m{\u001b[0m\u001b[1;33m}\u001b[0m\u001b[1;33m\u001b[0m\u001b[1;33m\u001b[0m\u001b[0m\n\u001b[1;32m--> 778\u001b[1;33m     \u001b[1;32mwith\u001b[0m \u001b[0m_open_file_or_url\u001b[0m\u001b[1;33m(\u001b[0m\u001b[0mfname\u001b[0m\u001b[1;33m)\u001b[0m \u001b[1;32mas\u001b[0m \u001b[0mfd\u001b[0m\u001b[1;33m:\u001b[0m\u001b[1;33m\u001b[0m\u001b[1;33m\u001b[0m\u001b[0m\n\u001b[0m\u001b[0;32m    779\u001b[0m         \u001b[1;32mtry\u001b[0m\u001b[1;33m:\u001b[0m\u001b[1;33m\u001b[0m\u001b[1;33m\u001b[0m\u001b[0m\n",
      "\u001b[1;32m~\\anaconda3\\lib\\contextlib.py\u001b[0m in \u001b[0;36m__enter__\u001b[1;34m(self)\u001b[0m\n\u001b[0;32m    118\u001b[0m         \u001b[1;32mtry\u001b[0m\u001b[1;33m:\u001b[0m\u001b[1;33m\u001b[0m\u001b[1;33m\u001b[0m\u001b[0m\n\u001b[1;32m--> 119\u001b[1;33m             \u001b[1;32mreturn\u001b[0m \u001b[0mnext\u001b[0m\u001b[1;33m(\u001b[0m\u001b[0mself\u001b[0m\u001b[1;33m.\u001b[0m\u001b[0mgen\u001b[0m\u001b[1;33m)\u001b[0m\u001b[1;33m\u001b[0m\u001b[1;33m\u001b[0m\u001b[0m\n\u001b[0m\u001b[0;32m    120\u001b[0m         \u001b[1;32mexcept\u001b[0m \u001b[0mStopIteration\u001b[0m\u001b[1;33m:\u001b[0m\u001b[1;33m\u001b[0m\u001b[1;33m\u001b[0m\u001b[0m\n",
      "\u001b[1;32m~\\anaconda3\\lib\\site-packages\\matplotlib\\__init__.py\u001b[0m in \u001b[0;36m_open_file_or_url\u001b[1;34m(fname)\u001b[0m\n\u001b[0;32m    754\u001b[0m             \u001b[0mencoding\u001b[0m \u001b[1;33m=\u001b[0m \u001b[1;34m\"utf-8\"\u001b[0m\u001b[1;33m\u001b[0m\u001b[1;33m\u001b[0m\u001b[0m\n\u001b[1;32m--> 755\u001b[1;33m         \u001b[1;32mwith\u001b[0m \u001b[0mopen\u001b[0m\u001b[1;33m(\u001b[0m\u001b[0mfname\u001b[0m\u001b[1;33m,\u001b[0m \u001b[0mencoding\u001b[0m\u001b[1;33m=\u001b[0m\u001b[0mencoding\u001b[0m\u001b[1;33m)\u001b[0m \u001b[1;32mas\u001b[0m \u001b[0mf\u001b[0m\u001b[1;33m:\u001b[0m\u001b[1;33m\u001b[0m\u001b[1;33m\u001b[0m\u001b[0m\n\u001b[0m\u001b[0;32m    756\u001b[0m             \u001b[1;32myield\u001b[0m \u001b[0mf\u001b[0m\u001b[1;33m\u001b[0m\u001b[1;33m\u001b[0m\u001b[0m\n",
      "\u001b[1;31mFileNotFoundError\u001b[0m: [Errno 2] No such file or directory: './deeplearning.mplstyle'",
      "\nThe above exception was the direct cause of the following exception:\n",
      "\u001b[1;31mOSError\u001b[0m                                   Traceback (most recent call last)",
      "\u001b[1;32m~\\AppData\\Local\\Temp\\ipykernel_12412\\2789015990.py\u001b[0m in \u001b[0;36m<module>\u001b[1;34m\u001b[0m\n\u001b[0;32m      3\u001b[0m \u001b[1;32mimport\u001b[0m \u001b[0mnumpy\u001b[0m \u001b[1;32mas\u001b[0m \u001b[0mnp\u001b[0m\u001b[1;33m\u001b[0m\u001b[1;33m\u001b[0m\u001b[0m\n\u001b[0;32m      4\u001b[0m \u001b[1;33m\u001b[0m\u001b[0m\n\u001b[1;32m----> 5\u001b[1;33m \u001b[1;32mimport\u001b[0m \u001b[0mutils\u001b[0m\u001b[1;33m\u001b[0m\u001b[1;33m\u001b[0m\u001b[0m\n\u001b[0m",
      "\u001b[1;32m~\\Machine learning\\Advanced learning algorithms\\utils.py\u001b[0m in \u001b[0;36m<module>\u001b[1;34m\u001b[0m\n\u001b[0;32m      3\u001b[0m \u001b[1;32mimport\u001b[0m \u001b[0mmatplotlib\u001b[0m\u001b[1;33m.\u001b[0m\u001b[0mpyplot\u001b[0m \u001b[1;32mas\u001b[0m \u001b[0mplt\u001b[0m\u001b[1;33m\u001b[0m\u001b[1;33m\u001b[0m\u001b[0m\n\u001b[0;32m      4\u001b[0m \u001b[1;32mimport\u001b[0m \u001b[0mmatplotlib\u001b[0m\u001b[1;33m.\u001b[0m\u001b[0mlines\u001b[0m \u001b[1;32mas\u001b[0m \u001b[0mmlines\u001b[0m\u001b[1;33m\u001b[0m\u001b[1;33m\u001b[0m\u001b[0m\n\u001b[1;32m----> 5\u001b[1;33m \u001b[0mplt\u001b[0m\u001b[1;33m.\u001b[0m\u001b[0mstyle\u001b[0m\u001b[1;33m.\u001b[0m\u001b[0muse\u001b[0m\u001b[1;33m(\u001b[0m\u001b[1;34m'./deeplearning.mplstyle'\u001b[0m\u001b[1;33m)\u001b[0m\u001b[1;33m\u001b[0m\u001b[1;33m\u001b[0m\u001b[0m\n\u001b[0m\u001b[0;32m      6\u001b[0m \u001b[1;33m\u001b[0m\u001b[0m\n\u001b[0;32m      7\u001b[0m \u001b[1;32mimport\u001b[0m \u001b[0mtensorflow\u001b[0m \u001b[1;32mas\u001b[0m \u001b[0mtf\u001b[0m\u001b[1;33m\u001b[0m\u001b[1;33m\u001b[0m\u001b[0m\n",
      "\u001b[1;32m~\\anaconda3\\lib\\site-packages\\matplotlib\\style\\core.py\u001b[0m in \u001b[0;36muse\u001b[1;34m(style)\u001b[0m\n\u001b[0;32m    128\u001b[0m                 \u001b[0m_apply_style\u001b[0m\u001b[1;33m(\u001b[0m\u001b[0mrc\u001b[0m\u001b[1;33m)\u001b[0m\u001b[1;33m\u001b[0m\u001b[1;33m\u001b[0m\u001b[0m\n\u001b[0;32m    129\u001b[0m             \u001b[1;32mexcept\u001b[0m \u001b[0mIOError\u001b[0m \u001b[1;32mas\u001b[0m \u001b[0merr\u001b[0m\u001b[1;33m:\u001b[0m\u001b[1;33m\u001b[0m\u001b[1;33m\u001b[0m\u001b[0m\n\u001b[1;32m--> 130\u001b[1;33m                 raise IOError(\n\u001b[0m\u001b[0;32m    131\u001b[0m                     \u001b[1;34m\"{!r} not found in the style library and input is not a \"\u001b[0m\u001b[1;33m\u001b[0m\u001b[1;33m\u001b[0m\u001b[0m\n\u001b[0;32m    132\u001b[0m                     \u001b[1;34m\"valid URL or path; see `style.available` for list of \"\u001b[0m\u001b[1;33m\u001b[0m\u001b[1;33m\u001b[0m\u001b[0m\n",
      "\u001b[1;31mOSError\u001b[0m: './deeplearning.mplstyle' not found in the style library and input is not a valid URL or path; see `style.available` for list of available styles"
     ]
    }
   ],
   "source": [
    "from sklearn.linear_model import LinearRegression,Ridge\n",
    "from sklearn.model_selection import train_test_split\n",
    "import numpy as np\n",
    "import utils"
   ]
  },
  {
   "cell_type": "code",
   "execution_count": 3,
   "id": "abf153d0",
   "metadata": {},
   "outputs": [
    {
     "data": {
      "text/plain": [
       "array([[1000.        ,  128.78420457],\n",
       "       [1030.3030303 ,  173.42427695],\n",
       "       [1060.60606061,  180.25643365],\n",
       "       [1090.90909091,  244.67947569],\n",
       "       [1121.21212121,  143.46049774],\n",
       "       [1151.51515152,  204.58003095],\n",
       "       [1181.81818182,  245.40429481],\n",
       "       [1212.12121212,  200.87056501],\n",
       "       [1242.42424242,  182.44584839],\n",
       "       [1272.72727273,  250.60045601],\n",
       "       [1303.03030303,  215.34105023],\n",
       "       [1333.33333333,  175.77447213],\n",
       "       [1363.63636364,  227.55002702],\n",
       "       [1393.93939394,  197.14397589],\n",
       "       [1424.24242424,  237.23112356],\n",
       "       [1454.54545455,  178.75229092],\n",
       "       [1484.84848485,  243.36136682],\n",
       "       [1515.15151515,  233.86928845],\n",
       "       [1545.45454545,  169.30338771],\n",
       "       [1575.75757576,  227.75644165],\n",
       "       [1606.06060606,  228.40641863],\n",
       "       [1636.36363636,  207.33551085],\n",
       "       [1666.66666667,  181.51848793],\n",
       "       [1696.96969697,  239.496763  ],\n",
       "       [1727.27272727,  267.97630929],\n",
       "       [1757.57575758,  257.83059997],\n",
       "       [1787.87878788,  254.43777534],\n",
       "       [1818.18181818,  203.17301949],\n",
       "       [1848.48484848,  230.86852492],\n",
       "       [1878.78787879,  218.47333466],\n",
       "       [1909.09090909,  319.13061669],\n",
       "       [1939.39393939,  309.15520825],\n",
       "       [1969.6969697 ,  239.76218932],\n",
       "       [2000.        ,  312.85198356],\n",
       "       [2030.3030303 ,  216.83408394],\n",
       "       [2060.60606061,  314.88527103],\n",
       "       [2090.90909091,  274.25324919],\n",
       "       [2121.21212121,  304.68529852],\n",
       "       [2151.51515152,  275.66444692],\n",
       "       [2181.81818182,  272.39781213],\n",
       "       [2212.12121212,  293.49173352],\n",
       "       [2242.42424242,  294.39059419],\n",
       "       [2272.72727273,  340.55309959],\n",
       "       [2303.03030303,  340.07325215],\n",
       "       [2333.33333333,  298.86626338],\n",
       "       [2363.63636364,  300.15506221],\n",
       "       [2393.93939394,  324.29768842],\n",
       "       [2424.24242424,  312.18590832],\n",
       "       [2454.54545455,  366.11089695],\n",
       "       [2484.84848485,  319.3909599 ],\n",
       "       [2515.15151515,  263.66183039],\n",
       "       [2545.45454545,  345.84030476],\n",
       "       [2575.75757576,  271.0460383 ],\n",
       "       [2606.06060606,  366.70187419],\n",
       "       [2636.36363636,  325.21927486],\n",
       "       [2666.66666667,  309.75016032],\n",
       "       [2696.96969697,  329.68587954],\n",
       "       [2727.27272727,  352.42457751],\n",
       "       [2757.57575758,  351.0404308 ],\n",
       "       [2787.87878788,  307.92696508],\n",
       "       [2818.18181818,  306.99439552],\n",
       "       [2848.48484848,  353.90774767],\n",
       "       [2878.78787879,  335.23243533],\n",
       "       [2909.09090909,  327.39247419],\n",
       "       [2939.39393939,  302.59894657],\n",
       "       [2969.6969697 ,  361.80254221],\n",
       "       [3000.        ,  285.60084523],\n",
       "       [3030.3030303 ,  341.15366981],\n",
       "       [3060.60606061,  348.97974582],\n",
       "       [3090.90909091,  374.38555108],\n",
       "       [3121.21212121,  345.8251057 ],\n",
       "       [3151.51515152,  368.88096195],\n",
       "       [3181.81818182,  308.26255506],\n",
       "       [3212.12121212,  392.07232327],\n",
       "       [3242.42424242,  332.7976932 ],\n",
       "       [3272.72727273,  409.06789845],\n",
       "       [3303.03030303,  373.67369987],\n",
       "       [3333.33333333,  312.41818415],\n",
       "       [3363.63636364,  372.01583521],\n",
       "       [3393.93939394,  321.35399606],\n",
       "       [3424.24242424,  391.21401724],\n",
       "       [3454.54545455,  300.09501091],\n",
       "       [3484.84848485,  364.31708752],\n",
       "       [3515.15151515,  362.99923146],\n",
       "       [3545.45454545,  399.21628966],\n",
       "       [3575.75757576,  399.82552009],\n",
       "       [3606.06060606,  398.48080098],\n",
       "       [3636.36363636,  366.59703455],\n",
       "       [3666.66666667,  352.09497294],\n",
       "       [3696.96969697,  378.27722868],\n",
       "       [3727.27272727,  312.57736264],\n",
       "       [3757.57575758,  414.05124428],\n",
       "       [3787.87878788,  323.876616  ],\n",
       "       [3818.18181818,  391.44609379],\n",
       "       [3848.48484848,  350.8151891 ],\n",
       "       [3878.78787879,  413.91470201],\n",
       "       [3909.09090909,  371.4006886 ],\n",
       "       [3939.39393939,  360.28091088],\n",
       "       [3969.6969697 ,  325.13390934],\n",
       "       [4000.        ,  383.3239023 ]])"
      ]
     },
     "execution_count": 3,
     "metadata": {},
     "output_type": "execute_result"
    }
   ],
   "source": [
    "data =np.loadtxt(\"C:\\\\Users\\\\nshra\\\\Machine learning\\\\Advanced learning algorithms\\\\c2w3\\\\work\\\\data\\\\c2w3_lab2_data1.csv\",delimiter=',')\n",
    "data"
   ]
  },
  {
   "cell_type": "code",
   "execution_count": 33,
   "id": "3e64ceb9",
   "metadata": {},
   "outputs": [
    {
     "name": "stdout",
     "output_type": "stream",
     "text": [
      "(100, 0)\n",
      "[]\n"
     ]
    }
   ],
   "source": [
    "x=data[:,:-1]\n",
    "print(x.shape)\n",
    "print(x)"
   ]
  },
  {
   "cell_type": "code",
   "execution_count": 44,
   "id": "c4d3b2ea",
   "metadata": {},
   "outputs": [
    {
     "name": "stdout",
     "output_type": "stream",
     "text": [
      "[128.78420457 173.42427695 180.25643365 244.67947569 143.46049774\n",
      " 204.58003095 245.40429481 200.87056501 182.44584839 250.60045601\n",
      " 215.34105023 175.77447213 227.55002702 197.14397589 237.23112356\n",
      " 178.75229092 243.36136682 233.86928845 169.30338771 227.75644165\n",
      " 228.40641863 207.33551085 181.51848793 239.496763   267.97630929\n",
      " 257.83059997 254.43777534 203.17301949 230.86852492 218.47333466\n",
      " 319.13061669 309.15520825 239.76218932 312.85198356 216.83408394\n",
      " 314.88527103 274.25324919 304.68529852 275.66444692 272.39781213\n",
      " 293.49173352 294.39059419 340.55309959 340.07325215 298.86626338\n",
      " 300.15506221 324.29768842 312.18590832 366.11089695 319.3909599\n",
      " 263.66183039 345.84030476 271.0460383  366.70187419 325.21927486\n",
      " 309.75016032 329.68587954 352.42457751 351.0404308  307.92696508\n",
      " 306.99439552 353.90774767 335.23243533 327.39247419 302.59894657\n",
      " 361.80254221 285.60084523 341.15366981 348.97974582 374.38555108\n",
      " 345.8251057  368.88096195 308.26255506 392.07232327 332.7976932\n",
      " 409.06789845 373.67369987 312.41818415 372.01583521 321.35399606\n",
      " 391.21401724 300.09501091 364.31708752 362.99923146 399.21628966\n",
      " 399.82552009 398.48080098 366.59703455 352.09497294 378.27722868\n",
      " 312.57736264 414.05124428 323.876616   391.44609379 350.8151891\n",
      " 413.91470201 371.4006886  360.28091088 325.13390934 383.3239023 ]\n"
     ]
    },
    {
     "data": {
      "text/plain": [
       "(100,)"
      ]
     },
     "execution_count": 44,
     "metadata": {},
     "output_type": "execute_result"
    }
   ],
   "source": [
    "y=data[:,-1]\n",
    "print(y)\n",
    "y.shape"
   ]
  },
  {
   "cell_type": "code",
   "execution_count": null,
   "id": "900a7f6c",
   "metadata": {},
   "outputs": [],
   "source": []
  }
 ],
 "metadata": {
  "kernelspec": {
   "display_name": "Python 3 (ipykernel)",
   "language": "python",
   "name": "python3"
  },
  "language_info": {
   "codemirror_mode": {
    "name": "ipython",
    "version": 3
   },
   "file_extension": ".py",
   "mimetype": "text/x-python",
   "name": "python",
   "nbconvert_exporter": "python",
   "pygments_lexer": "ipython3",
   "version": "3.9.13"
  }
 },
 "nbformat": 4,
 "nbformat_minor": 5
}
