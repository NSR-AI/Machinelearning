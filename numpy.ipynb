{
 "cells": [
  {
   "cell_type": "code",
   "execution_count": 2,
   "id": "d8833b93",
   "metadata": {},
   "outputs": [],
   "source": [
    "import numpy as np"
   ]
  },
  {
   "cell_type": "code",
   "execution_count": 3,
   "id": "b5658c6c",
   "metadata": {},
   "outputs": [
    {
     "data": {
      "text/plain": [
       "(6,)"
      ]
     },
     "execution_count": 3,
     "metadata": {},
     "output_type": "execute_result"
    }
   ],
   "source": [
    "a=np.arange(6)\n",
    "a.shape"
   ]
  },
  {
   "cell_type": "code",
   "execution_count": 4,
   "id": "72b7201e",
   "metadata": {},
   "outputs": [
    {
     "name": "stdout",
     "output_type": "stream",
     "text": [
      "<class 'numpy.float64'>\n"
     ]
    }
   ],
   "source": [
    "a=np.zeros(5)\n",
    "print(type(a[0]))"
   ]
  },
  {
   "cell_type": "code",
   "execution_count": 5,
   "id": "5f0d6791",
   "metadata": {},
   "outputs": [
    {
     "name": "stdout",
     "output_type": "stream",
     "text": [
      "[0. 0. 0. 0.] (4,) float64\n"
     ]
    }
   ],
   "source": [
    "b=np.zeros((4,))\n",
    "print(b,b.shape,b.dtype)"
   ]
  },
  {
   "cell_type": "code",
   "execution_count": 6,
   "id": "a0db5246",
   "metadata": {},
   "outputs": [
    {
     "name": "stdout",
     "output_type": "stream",
     "text": [
      "[0.58731956 0.11453034 0.13745989 0.07889199]\n"
     ]
    }
   ],
   "source": [
    "c=np.random.rand(4);print(c)"
   ]
  },
  {
   "cell_type": "code",
   "execution_count": 7,
   "id": "5efc3381",
   "metadata": {
    "scrolled": true
   },
   "outputs": [
    {
     "name": "stdout",
     "output_type": "stream",
     "text": [
      "[0 1 2 3]\n"
     ]
    }
   ],
   "source": [
    "d=np.arange(4);print(d)"
   ]
  },
  {
   "cell_type": "markdown",
   "id": "ecb2cd06",
   "metadata": {},
   "source": [
    "Indexing in numpy arrays"
   ]
  },
  {
   "cell_type": "code",
   "execution_count": 8,
   "id": "33eae7f8",
   "metadata": {},
   "outputs": [
    {
     "name": "stdout",
     "output_type": "stream",
     "text": [
      "[0 1 2 3 4 5 6 7 8 9]\n",
      "() 1\n",
      "a[-1]=9\n",
      "The error message you'll see is:\n",
      "index 10 is out of bounds for axis 0 with size 10\n"
     ]
    }
   ],
   "source": [
    "a=np.arange(10)\n",
    "print(a)\n",
    "print(a[2].shape,a[1])\n",
    "print(f\"a[-1]={a[-1]}\")\n",
    "try:\n",
    "    c=a[10]\n",
    "except Exception as e:\n",
    "    print(\"The error message you'll see is:\")\n",
    "    print(e)"
   ]
  },
  {
   "cell_type": "markdown",
   "id": "e13d2c44",
   "metadata": {},
   "source": [
    "### Slicing in numpy arrays"
   ]
  },
  {
   "cell_type": "code",
   "execution_count": 9,
   "id": "f92df2cd",
   "metadata": {},
   "outputs": [
    {
     "name": "stdout",
     "output_type": "stream",
     "text": [
      "[0 1 2 3 4 5 6 7 8 9]\n",
      "[2 3 4 5 6]\n",
      "[1 3 5 7 9]\n",
      "[0 2 4 6 8]\n",
      "[0 1 2 3 4 5 6 7 8 9]\n",
      "[0 1 2 3 4 5 6 7 8]\n",
      "[0 1 2 3 4 5 6 7]\n",
      "[0 1 2 3 4 5 6]\n",
      "[9 8 7 6 5 4 3 2 1 0]\n"
     ]
    }
   ],
   "source": [
    "b=np.arange(10)\n",
    "print(b)\n",
    "c=b[2:7:1]\n",
    "print(c)\n",
    "print(b[1:10:2])\n",
    "print(b[:10:2])\n",
    "print(b[:])\n",
    "print(b[:-1])\n",
    "print(b[:-2])\n",
    "print(b[:-3])\n",
    "print(b[::-1])"
   ]
  },
  {
   "cell_type": "markdown",
   "id": "5fa750a8",
   "metadata": {},
   "source": [
    "### Single vector operartions"
   ]
  },
  {
   "cell_type": "code",
   "execution_count": 10,
   "id": "7ccea628",
   "metadata": {},
   "outputs": [
    {
     "name": "stdout",
     "output_type": "stream",
     "text": [
      "[1 2 3 4]\n",
      "[-1 -2 -3 -4]\n",
      "10\n",
      "2.5\n",
      "[ 1  4  9 16]\n"
     ]
    }
   ],
   "source": [
    "d=np.array([1,2,3,4])\n",
    "print(d)\n",
    "#to negate the elementsof the d\n",
    "e=-d\n",
    "print(e)\n",
    "#sum  of all elements \n",
    "e=np.sum(d)\n",
    "print(e)\n",
    "e=np.mean(d)\n",
    "print(e)\n",
    "e=d**2\n",
    "print(e)"
   ]
  },
  {
   "cell_type": "markdown",
   "id": "a494c2ca",
   "metadata": {},
   "source": [
    "Vector vector element wise operations"
   ]
  },
  {
   "cell_type": "code",
   "execution_count": 11,
   "id": "f6a0e82a",
   "metadata": {},
   "outputs": [
    {
     "name": "stdout",
     "output_type": "stream",
     "text": [
      "[0 0 0 0]\n",
      "The addition works as\n"
     ]
    }
   ],
   "source": [
    "a=np.array([1,2,3,4])\n",
    "b=np.array([-1,-2,-3,-4])\n",
    "print(a+b)\n",
    "print(f\"The addition works as\")"
   ]
  },
  {
   "cell_type": "markdown",
   "id": "7df351ed",
   "metadata": {},
   "source": [
    "scalar vector element wise operations"
   ]
  },
  {
   "cell_type": "code",
   "execution_count": 12,
   "id": "57ba38c2",
   "metadata": {},
   "outputs": [
    {
     "name": "stdout",
     "output_type": "stream",
     "text": [
      "[ 5 10 15 20]\n"
     ]
    }
   ],
   "source": [
    "a=np.array([1,2,3,4])\n",
    "\n",
    "#multiply a by a scalar\n",
    "\n",
    "b=5*a\n",
    "print(b)"
   ]
  },
  {
   "cell_type": "markdown",
   "id": "06a3dae1",
   "metadata": {},
   "source": [
    "Vector dot product"
   ]
  },
  {
   "cell_type": "code",
   "execution_count": 13,
   "id": "494ca10a",
   "metadata": {},
   "outputs": [
    {
     "name": "stdout",
     "output_type": "stream",
     "text": [
      "30\n"
     ]
    }
   ],
   "source": [
    "def dot(a,b):\n",
    "    x=0\n",
    "    for i in range(a.shape[0]):\n",
    "        x=x+a[i]*b[i]\n",
    "    return x\n",
    "a=np.array([1,2,3,4])\n",
    "b=np.array([1,2,3,4])\n",
    "print(dot(a,b))"
   ]
  },
  {
   "cell_type": "code",
   "execution_count": 14,
   "id": "4c1dada4",
   "metadata": {},
   "outputs": [
    {
     "name": "stdout",
     "output_type": "stream",
     "text": [
      "[1 2]\n",
      "[2 3]\n",
      "2\n"
     ]
    }
   ],
   "source": [
    "a=np.array([[1,2],[2,3]])\n",
    "print(a[0])\n",
    "print(a[1])\n",
    "print(a[1].shape[0])#accessing the seocnd array size\n"
   ]
  },
  {
   "cell_type": "code",
   "execution_count": 15,
   "id": "3585e1f6",
   "metadata": {},
   "outputs": [
    {
     "name": "stdout",
     "output_type": "stream",
     "text": [
      "30\n",
      "30\n"
     ]
    }
   ],
   "source": [
    "a=np.array([1,2,3,4])\n",
    "b=np.array([1,2,3,4])\n",
    "c=np.dot(a,b)\n",
    "print(c)\n",
    "c=np.dot(b,a)\n",
    "print(c)"
   ]
  },
  {
   "cell_type": "markdown",
   "id": "42dae841",
   "metadata": {},
   "source": [
    "Time diffeence between loop vs vector"
   ]
  },
  {
   "cell_type": "code",
   "execution_count": 16,
   "id": "90ce4687",
   "metadata": {},
   "outputs": [
    {
     "name": "stdout",
     "output_type": "stream",
     "text": [
      "249825.0234\n",
      "43.8192\n"
     ]
    }
   ],
   "source": [
    "import time\n",
    "np.random.seed(1)\n",
    "a=np.random.rand(1000000)\n",
    "b=np.random.rand(1000000)\n",
    "\n",
    "tic=time.time()\n",
    "c=np.dot(a,b)\n",
    "toc=time.time()\n",
    "print(f\"{c:.4f}\")\n",
    "print(f\"{1000*(toc-tic):.4f}\")"
   ]
  },
  {
   "cell_type": "code",
   "execution_count": 17,
   "id": "58a3c0f5",
   "metadata": {},
   "outputs": [
    {
     "name": "stdout",
     "output_type": "stream",
     "text": [
      "249825.0234\n",
      "719.1460\n"
     ]
    }
   ],
   "source": [
    "tic=time.time()\n",
    "c=dot(a,b)\n",
    "toc=time.time()\n",
    "print(f\"{c:.4f}\")\n",
    "print(f\"{1000*(toc-tic):.4f}\")"
   ]
  },
  {
   "cell_type": "code",
   "execution_count": 18,
   "id": "3fbf9874",
   "metadata": {},
   "outputs": [
    {
     "name": "stdout",
     "output_type": "stream",
     "text": [
      "[2]\n",
      "1\n",
      "(1,)\n",
      "()\n"
     ]
    }
   ],
   "source": [
    "x=np.array([[1],[2],[3],[4]])\n",
    "w=np.array([2])\n",
    "print(x[1])\n",
    "c=np.dot(x[1],w)\n",
    "print(x[1].shape[0])\n",
    "print(w.shape)\n",
    "print(c.shape)"
   ]
  },
  {
   "cell_type": "code",
   "execution_count": 19,
   "id": "811f1aff",
   "metadata": {},
   "outputs": [
    {
     "name": "stdout",
     "output_type": "stream",
     "text": [
      "3\n"
     ]
    }
   ],
   "source": [
    "print(len([\"u\",\" i\"\"j\",\"k\"\"l\"]))"
   ]
  },
  {
   "cell_type": "code",
   "execution_count": 20,
   "id": "0f7f1579",
   "metadata": {},
   "outputs": [
    {
     "name": "stdout",
     "output_type": "stream",
     "text": [
      "(1, 5),s=[[0. 0. 0. 0. 0.]]\n",
      "(4, 1),a=[[0.]\n",
      " [0.]\n",
      " [0.]\n",
      " [0.]]\n",
      "a_shape=(1, 1),a=[[0.03762516]]\n"
     ]
    }
   ],
   "source": [
    "a=np.zeros((1,5))\n",
    "print(f\"{a.shape},s={a}\")\n",
    "a=np.zeros((4,1))\n",
    "print(f\"{a.shape},a={a}\")\n",
    "a=np.random.random_sample((1,1))\n",
    "print(f\"a_shape={a.shape},a={a}\")"
   ]
  },
  {
   "cell_type": "code",
   "execution_count": 21,
   "id": "7427b6ed",
   "metadata": {},
   "outputs": [
    {
     "name": "stdout",
     "output_type": "stream",
     "text": [
      "(3, 1) [[5]\n",
      " [4]\n",
      " [3]]\n"
     ]
    }
   ],
   "source": [
    "a=np.array([[5],[4],[3]])\n",
    "print(a.shape,a)"
   ]
  },
  {
   "cell_type": "code",
   "execution_count": 22,
   "id": "5ee06d3d",
   "metadata": {},
   "outputs": [
    {
     "name": "stdout",
     "output_type": "stream",
     "text": [
      "(3, 1) [[5]\n",
      " [4]\n",
      " [3]]\n"
     ]
    }
   ],
   "source": [
    "a=np.array([[5],\n",
    "            [4],\n",
    "            [3]])\n",
    "print(a.shape,a)"
   ]
  },
  {
   "cell_type": "code",
   "execution_count": 23,
   "id": "baf82aaa",
   "metadata": {},
   "outputs": [
    {
     "name": "stdout",
     "output_type": "stream",
     "text": [
      "[[0 1]\n",
      " [2 3]\n",
      " [4 5]]\n"
     ]
    }
   ],
   "source": [
    "a=np.arange(6).reshape(-1,2)\n",
    "print(a)"
   ]
  },
  {
   "cell_type": "code",
   "execution_count": 24,
   "id": "49d9fea4",
   "metadata": {},
   "outputs": [
    {
     "name": "stdout",
     "output_type": "stream",
     "text": [
      "0 1\n",
      "2 3\n",
      "4 5\n",
      "(2,)\n",
      "(2,)\n"
     ]
    }
   ],
   "source": [
    "print(a[0,0],a[0,1])\n",
    "print(a[1,0],a[1,1])\n",
    "print(a[2,0],a[2,1])\n",
    "print(a[2].shape)\n",
    "print(a[1].shape)"
   ]
  },
  {
   "cell_type": "code",
   "execution_count": 25,
   "id": "5491141c",
   "metadata": {},
   "outputs": [
    {
     "name": "stdout",
     "output_type": "stream",
     "text": [
      "[[ 0  1  2  3  4  5  6  7  8  9]\n",
      " [10 11 12 13 14 15 16 17 18 19]]\n",
      "[2 3 4 5 6] 5\n",
      "[12 13 14 15 16] (5,)\n",
      "[[ 0  1  2  3  4  5  6  7  8  9]\n",
      " [10 11 12 13 14 15 16 17 18 19]]\n",
      "[[ 0  1  2  3  4  5  6  7  8  9]\n",
      " [10 11 12 13 14 15 16 17 18 19]]\n",
      "[10 11 12 13 14 15 16 17 18 19]\n",
      "[0 1 2 3 4 5 6 7 8 9]\n",
      "[0 1 2 3 4 5 6 7 8 9]\n",
      "[10 11 12 13 14 15 16 17 18 19]\n"
     ]
    }
   ],
   "source": [
    "a=np.arange(20).reshape(-1,10)\n",
    "print(a)\n",
    "print(a[0,2:7:1],a[0,2:7:1].shape[0]) #to print length of array\n",
    "print(a[1,2:7:1],a[1,2:7:1].shape)\n",
    "print(a[:,:])\n",
    "print(a[::])\n",
    "print(a[1,:])\n",
    "print(a[0,:])\n",
    "print(a[0])\n",
    "print(a[1])\n"
   ]
  },
  {
   "cell_type": "code",
   "execution_count": null,
   "id": "f099d0de",
   "metadata": {},
   "outputs": [],
   "source": []
  }
 ],
 "metadata": {
  "kernelspec": {
   "display_name": "Python 3 (ipykernel)",
   "language": "python",
   "name": "python3"
  },
  "language_info": {
   "codemirror_mode": {
    "name": "ipython",
    "version": 3
   },
   "file_extension": ".py",
   "mimetype": "text/x-python",
   "name": "python",
   "nbconvert_exporter": "python",
   "pygments_lexer": "ipython3",
   "version": "3.9.13"
  }
 },
 "nbformat": 4,
 "nbformat_minor": 5
}
